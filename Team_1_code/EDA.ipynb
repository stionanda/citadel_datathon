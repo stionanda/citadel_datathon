{
 "cells": [
  {
   "cell_type": "code",
   "execution_count": 1,
   "metadata": {},
   "outputs": [],
   "source": [
    "import pandas as pd\n",
    "import numpy as np\n",
    "import matplotlib.pyplot as plt\n",
    "import seaborn as sns\n",
    "import warnings"
   ]
  },
  {
   "cell_type": "code",
   "execution_count": 2,
   "metadata": {},
   "outputs": [],
   "source": [
    "warnings.filterwarnings('ignore')"
   ]
  },
  {
   "cell_type": "markdown",
   "metadata": {},
   "source": [
    "# Import and Clean the Data"
   ]
  },
  {
   "cell_type": "code",
   "execution_count": 3,
   "metadata": {},
   "outputs": [],
   "source": [
    "column_names = {'B01001_001E' : 'population',\n",
    "                'B19013_001E' : 'med_income',\n",
    "                'B25077_001E' : 'med_home_value',\n",
    "                'B03002_003E' : 'white',\n",
    "                'B03002_004E' : 'black',\n",
    "                'B02001_004E' : 'indians',\n",
    "                'B03002_006E' : 'asians',\n",
    "                'B03002_007E' : 'hawaiians',\n",
    "                'B03002_008E' : 'non_hispanic_others',\n",
    "                'B03002_009E' : 'multi_racials',\n",
    "                'B03002_012E' : 'hispanics',\n",
    "                'B15002_032E' : 'male_degrees',\n",
    "                'B15002_015E' : 'female_degrees'}"
   ]
  },
  {
   "cell_type": "markdown",
   "metadata": {},
   "source": [
    "__Test 1: does the tract qualify for gentrification?__\n",
    "\n",
    "- The tract had a population of at least 500 residents at the beginning and end of a decade and was located within a central city\n",
    "- The tract’s median household income was in the bottom 40th percentile when compared to all tracts within its metro area at the beginning of the decade\n",
    "- The tract’s median home value was in the bottom 40th percentile when compared to all tracts within its metro area at the beginning of the decade\n",
    "\n",
    "__Test 2: has it gentrified?__\n",
    "\n",
    "- An increase in a tract's educational attainment, as measured by the percentage of residents age 25 and over holding bachelor’s degrees, was in the top third percentile of all tracts within a metro area\n",
    "- A tract’s median home value increased when adjusted for inflation\n",
    "- The percentage increase in a tract’s inflation-adjusted median home value was in the top third percentile of all tracts within a metro area"
   ]
  },
  {
   "cell_type": "code",
   "execution_count": 4,
   "metadata": {},
   "outputs": [],
   "source": [
    "df2009 = pd.read_csv('mycensus_2009.csv').rename(columns=column_names)\n",
    "df2009 = df2009.set_index('geoid')\n",
    "\n",
    "df2018 = pd.read_csv('mycensus_2018.csv').rename(columns=column_names)\n",
    "df2018 = df2018.set_index('geoid')"
   ]
  },
  {
   "cell_type": "markdown",
   "metadata": {},
   "source": [
    "Drop tracts with less than 500 inhabitants:"
   ]
  },
  {
   "cell_type": "code",
   "execution_count": 5,
   "metadata": {},
   "outputs": [],
   "source": [
    "df2009 = df2009.sort_values(by='population', ascending=False)[df2009['population'] >= 500]\n",
    "df2018 = df2018.sort_values(by='population', ascending=False)[df2018['population'] >= 500]"
   ]
  },
  {
   "cell_type": "markdown",
   "metadata": {},
   "source": [
    "Reduce dimensionality by leaving only three major racial groups:"
   ]
  },
  {
   "cell_type": "code",
   "execution_count": 6,
   "metadata": {},
   "outputs": [],
   "source": [
    "df2009 = df2009.drop(columns=['year', 'indians', 'asians', 'hawaiians', 'non_hispanic_others', 'multi_racials', 'state', 'county', 'tract'])\n",
    "df2018 = df2018.drop(columns=['year', 'indians', 'asians', 'hawaiians', 'non_hispanic_others', 'multi_racials', 'state', 'county', 'tract'])"
   ]
  },
  {
   "cell_type": "markdown",
   "metadata": {},
   "source": [
    "Ignore tracts that have negative median household income or negative median home value: "
   ]
  },
  {
   "cell_type": "code",
   "execution_count": 7,
   "metadata": {},
   "outputs": [],
   "source": [
    "df2009 = df2009[df2009['med_income'] > 0]\n",
    "df2018 = df2018[df2018['med_income'] > 0]\n",
    "\n",
    "df2009 = df2009[df2009['med_home_value'] > 0]\n",
    "df2018 = df2018[df2018['med_home_value'] > 0]"
   ]
  },
  {
   "cell_type": "code",
   "execution_count": 8,
   "metadata": {},
   "outputs": [
    {
     "data": {
      "text/plain": [
       "((4373, 9), (4404, 9))"
      ]
     },
     "execution_count": 8,
     "metadata": {},
     "output_type": "execute_result"
    }
   ],
   "source": [
    "df2009.shape, df2018.shape"
   ]
  },
  {
   "cell_type": "markdown",
   "metadata": {},
   "source": [
    "Combine data on people with at least bachelor degrees into a single variable:"
   ]
  },
  {
   "cell_type": "code",
   "execution_count": 9,
   "metadata": {},
   "outputs": [],
   "source": [
    "df2009['edu_att'] = 100 * (df2009['male_degrees'] + df2009['female_degrees']) / df2009['population']\n",
    "df2009 = df2009.drop(columns=['male_degrees', 'female_degrees'])\n",
    "\n",
    "df2018['edu_att'] = 100 * (df2018['male_degrees'] + df2018['female_degrees']) / df2018['population']\n",
    "df2018 = df2018.drop(columns=['male_degrees', 'female_degrees'])"
   ]
  },
  {
   "cell_type": "markdown",
   "metadata": {},
   "source": [
    "Transform data on racial composition into percentages and drop information on total population:"
   ]
  },
  {
   "cell_type": "code",
   "execution_count": 10,
   "metadata": {},
   "outputs": [],
   "source": [
    "df2009['white'] = 100 * df2009['white'] / df2009['population']\n",
    "df2009['black'] = 100 * df2009['black'] / df2009['population']\n",
    "df2009['hispanics'] = 100 * df2009['hispanics'] / df2009['population']\n",
    "# df2009 = df2009.drop(columns=['population'])\n",
    "\n",
    "df2018['white'] = 100 * df2018['white'] / df2018['population']\n",
    "df2018['black'] = 100 * df2018['black'] / df2018['population']\n",
    "df2018['hispanics'] = 100 * df2018['hispanics'] / df2018['population']\n",
    "# df2018 = df2018.drop(columns=['population'])"
   ]
  },
  {
   "cell_type": "markdown",
   "metadata": {},
   "source": [
    "Make sure that the number of tracts included in each dataframe is the same:"
   ]
  },
  {
   "cell_type": "code",
   "execution_count": 11,
   "metadata": {},
   "outputs": [],
   "source": [
    "matched_2009 = [True if geoid_2009 in df2018.index else False for geoid_2009 in df2009.index]\n",
    "df2009 = df2009[matched_2009]"
   ]
  },
  {
   "cell_type": "code",
   "execution_count": 12,
   "metadata": {},
   "outputs": [],
   "source": [
    "matched_2018 = [True if geoid_2018 in df2009.index else False for geoid_2018 in df2018.index]\n",
    "df2018 = df2018[matched_2018]"
   ]
  },
  {
   "cell_type": "code",
   "execution_count": 13,
   "metadata": {},
   "outputs": [
    {
     "data": {
      "text/plain": [
       "((3825, 8), (3825, 8))"
      ]
     },
     "execution_count": 13,
     "metadata": {},
     "output_type": "execute_result"
    }
   ],
   "source": [
    "df2009.shape, df2018.shape"
   ]
  },
  {
   "cell_type": "markdown",
   "metadata": {},
   "source": [
    "Combine the two dataframes into one and convert variables into changes:"
   ]
  },
  {
   "cell_type": "code",
   "execution_count": 14,
   "metadata": {},
   "outputs": [],
   "source": [
    "df2009 = df2009.sort_index()\n",
    "df2018 = df2018.sort_index()"
   ]
  },
  {
   "cell_type": "code",
   "execution_count": 15,
   "metadata": {},
   "outputs": [],
   "source": [
    "df0918 = pd.DataFrame(0, columns=['name', 'd_pop_%', 'd_medinc_%', 'd_medhomeval_%', \n",
    "                                  'd_white_pp', 'd_black_pp', 'd_hispanics_pp', 'd_eduatt_pp'], \n",
    "                      index=df2018.index)"
   ]
  },
  {
   "cell_type": "code",
   "execution_count": 16,
   "metadata": {},
   "outputs": [],
   "source": [
    "df0918['name'] = df2018['NAME']\n",
    "df0918['d_pop_%'] = 100 * (df2018['population'] / df2009['population'] - 1)\n",
    "df0918['d_medinc_%'] = 100 * (df2018['med_income'] / df2009['med_income'] - 1)\n",
    "df0918['d_medhomeval_%'] = 100 * (df2018['med_home_value'] / df2009['med_home_value'] - 1)\n",
    "df0918['d_white_pp'] = df2018['white'] - df2009['white']\n",
    "df0918['d_black_pp'] = df2018['black'] - df2009['black']\n",
    "df0918['d_hispanics_pp'] = df2018['hispanics'] - df2009['hispanics']\n",
    "df0918['d_eduatt_pp'] = df2018['edu_att'] - df2009['edu_att']"
   ]
  },
  {
   "cell_type": "code",
   "execution_count": 17,
   "metadata": {},
   "outputs": [
    {
     "data": {
      "text/html": [
       "<div>\n",
       "<style scoped>\n",
       "    .dataframe tbody tr th:only-of-type {\n",
       "        vertical-align: middle;\n",
       "    }\n",
       "\n",
       "    .dataframe tbody tr th {\n",
       "        vertical-align: top;\n",
       "    }\n",
       "\n",
       "    .dataframe thead th {\n",
       "        text-align: right;\n",
       "    }\n",
       "</style>\n",
       "<table border=\"1\" class=\"dataframe\">\n",
       "  <thead>\n",
       "    <tr style=\"text-align: right;\">\n",
       "      <th></th>\n",
       "      <th>name</th>\n",
       "      <th>d_pop_%</th>\n",
       "      <th>d_medinc_%</th>\n",
       "      <th>d_medhomeval_%</th>\n",
       "      <th>d_white_pp</th>\n",
       "      <th>d_black_pp</th>\n",
       "      <th>d_hispanics_pp</th>\n",
       "      <th>d_eduatt_pp</th>\n",
       "    </tr>\n",
       "    <tr>\n",
       "      <th>geoid</th>\n",
       "      <th></th>\n",
       "      <th></th>\n",
       "      <th></th>\n",
       "      <th></th>\n",
       "      <th></th>\n",
       "      <th></th>\n",
       "      <th></th>\n",
       "      <th></th>\n",
       "    </tr>\n",
       "  </thead>\n",
       "  <tbody>\n",
       "    <tr>\n",
       "      <th>34003001000</th>\n",
       "      <td>Census Tract 10, Bergen County, New Jersey</td>\n",
       "      <td>2.454545</td>\n",
       "      <td>24.437017</td>\n",
       "      <td>-2.857143</td>\n",
       "      <td>-0.908822</td>\n",
       "      <td>-0.075946</td>\n",
       "      <td>-0.471794</td>\n",
       "      <td>4.631403</td>\n",
       "    </tr>\n",
       "    <tr>\n",
       "      <th>34003002100</th>\n",
       "      <td>Census Tract 21, Bergen County, New Jersey</td>\n",
       "      <td>-24.651394</td>\n",
       "      <td>-23.780201</td>\n",
       "      <td>99.999900</td>\n",
       "      <td>-14.069795</td>\n",
       "      <td>5.657640</td>\n",
       "      <td>0.726440</td>\n",
       "      <td>-0.450873</td>\n",
       "    </tr>\n",
       "    <tr>\n",
       "      <th>34003002200</th>\n",
       "      <td>Census Tract 22, Bergen County, New Jersey</td>\n",
       "      <td>4.157044</td>\n",
       "      <td>22.264130</td>\n",
       "      <td>-12.899011</td>\n",
       "      <td>-6.444664</td>\n",
       "      <td>1.020912</td>\n",
       "      <td>4.016436</td>\n",
       "      <td>13.890994</td>\n",
       "    </tr>\n",
       "    <tr>\n",
       "      <th>34003002300</th>\n",
       "      <td>Census Tract 23, Bergen County, New Jersey</td>\n",
       "      <td>-5.505034</td>\n",
       "      <td>36.038018</td>\n",
       "      <td>-4.725955</td>\n",
       "      <td>-4.216798</td>\n",
       "      <td>-1.155176</td>\n",
       "      <td>4.800948</td>\n",
       "      <td>1.622442</td>\n",
       "    </tr>\n",
       "    <tr>\n",
       "      <th>34003003100</th>\n",
       "      <td>Census Tract 31, Bergen County, New Jersey</td>\n",
       "      <td>5.183673</td>\n",
       "      <td>-1.500227</td>\n",
       "      <td>-13.084356</td>\n",
       "      <td>1.970968</td>\n",
       "      <td>2.686370</td>\n",
       "      <td>3.755165</td>\n",
       "      <td>1.434923</td>\n",
       "    </tr>\n",
       "  </tbody>\n",
       "</table>\n",
       "</div>"
      ],
      "text/plain": [
       "                                                   name    d_pop_%  \\\n",
       "geoid                                                                \n",
       "34003001000  Census Tract 10, Bergen County, New Jersey   2.454545   \n",
       "34003002100  Census Tract 21, Bergen County, New Jersey -24.651394   \n",
       "34003002200  Census Tract 22, Bergen County, New Jersey   4.157044   \n",
       "34003002300  Census Tract 23, Bergen County, New Jersey  -5.505034   \n",
       "34003003100  Census Tract 31, Bergen County, New Jersey   5.183673   \n",
       "\n",
       "             d_medinc_%  d_medhomeval_%  d_white_pp  d_black_pp  \\\n",
       "geoid                                                             \n",
       "34003001000   24.437017       -2.857143   -0.908822   -0.075946   \n",
       "34003002100  -23.780201       99.999900  -14.069795    5.657640   \n",
       "34003002200   22.264130      -12.899011   -6.444664    1.020912   \n",
       "34003002300   36.038018       -4.725955   -4.216798   -1.155176   \n",
       "34003003100   -1.500227      -13.084356    1.970968    2.686370   \n",
       "\n",
       "             d_hispanics_pp  d_eduatt_pp  \n",
       "geoid                                     \n",
       "34003001000       -0.471794     4.631403  \n",
       "34003002100        0.726440    -0.450873  \n",
       "34003002200        4.016436    13.890994  \n",
       "34003002300        4.800948     1.622442  \n",
       "34003003100        3.755165     1.434923  "
      ]
     },
     "execution_count": 17,
     "metadata": {},
     "output_type": "execute_result"
    }
   ],
   "source": [
    "df0918.head()"
   ]
  },
  {
   "cell_type": "code",
   "execution_count": 514,
   "metadata": {},
   "outputs": [],
   "source": [
    "df0918.to_csv('change_0918.csv')"
   ]
  },
  {
   "cell_type": "markdown",
   "metadata": {},
   "source": [
    "# Exploratory Data Analysis"
   ]
  },
  {
   "cell_type": "code",
   "execution_count": 21,
   "metadata": {},
   "outputs": [
    {
     "data": {
      "image/png": "[encoded data removed]",
      "text/plain": [
       "<Figure size 576x576 with 2 Axes>"
      ]
     },
     "metadata": {
      "needs_background": "light"
     },
     "output_type": "display_data"
    }
   ],
   "source": [
    "# Compute the correlation matrix\n",
    "corr = df0918.iloc[:, 1:].corr();\n",
    "\n",
    "# Generate a mask for the upper triangle\n",
    "mask = np.triu(np.ones_like(corr, dtype=bool));\n",
    "\n",
    "# Set up the matplotlib figure\n",
    "f, ax = plt.subplots(figsize=(8, 8));\n",
    "\n",
    "# Generate a custom diverging colormap\n",
    "cmap = sns.diverging_palette(230, 20, as_cmap=True);\n",
    "\n",
    "# Draw the heatmap with the mask and correct aspect ratio\n",
    "sns.heatmap(corr, mask=mask, cmap=cmap, vmax=.3, center=0,\n",
    "            square=True, linewidths=.5, cbar_kws={\"shrink\": .5}, annot=True);\n",
    "\n",
    "#plt.title('Correlation Matrix for Changes over 2009-18 Period');\n",
    "plt.savefig('corr_changes.png', bbox_inches='tight');"
   ]
  },
  {
   "cell_type": "code",
   "execution_count": 26,
   "metadata": {},
   "outputs": [],
   "source": [
    "#sns.jointplot(x=\"d_eduatt_pp\", y=\"d_medinc_%\", data=df0918, kind=\"reg\");"
   ]
  },
  {
   "cell_type": "code",
   "execution_count": 289,
   "metadata": {},
   "outputs": [
    {
     "data": {
      "text/html": [
       "<div>\n",
       "<style scoped>\n",
       "    .dataframe tbody tr th:only-of-type {\n",
       "        vertical-align: middle;\n",
       "    }\n",
       "\n",
       "    .dataframe tbody tr th {\n",
       "        vertical-align: top;\n",
       "    }\n",
       "\n",
       "    .dataframe thead th {\n",
       "        text-align: right;\n",
       "    }\n",
       "</style>\n",
       "<table border=\"1\" class=\"dataframe\">\n",
       "  <thead>\n",
       "    <tr style=\"text-align: right;\">\n",
       "      <th></th>\n",
       "      <th>d_medinc_%</th>\n",
       "      <th>d_medhomeval_%</th>\n",
       "    </tr>\n",
       "  </thead>\n",
       "  <tbody>\n",
       "    <tr>\n",
       "      <th>d_medinc_%</th>\n",
       "      <td>1.000000</td>\n",
       "      <td>0.167699</td>\n",
       "    </tr>\n",
       "    <tr>\n",
       "      <th>d_medhomeval_%</th>\n",
       "      <td>0.167699</td>\n",
       "      <td>1.000000</td>\n",
       "    </tr>\n",
       "  </tbody>\n",
       "</table>\n",
       "</div>"
      ],
      "text/plain": [
       "                d_medinc_%  d_medhomeval_%\n",
       "d_medinc_%        1.000000        0.167699\n",
       "d_medhomeval_%    0.167699        1.000000"
      ]
     },
     "execution_count": 289,
     "metadata": {},
     "output_type": "execute_result"
    }
   ],
   "source": [
    "df0918.iloc[:, 2:4].corr()"
   ]
  },
  {
   "cell_type": "code",
   "execution_count": 288,
   "metadata": {},
   "outputs": [
    {
     "data": {
      "image/png": "[encoded data removed]",
      "text/plain": [
       "<Figure size 432x432 with 3 Axes>"
      ]
     },
     "metadata": {
      "needs_background": "light"
     },
     "output_type": "display_data"
    }
   ],
   "source": [
    "sns.jointplot(x=\"d_medinc_%\", y=\"d_medhomeval_%\", data=df0918, kind=\"reg\");\n",
    "plt.scatter(*Xt.T, label='Principal Components', color='red');"
   ]
  },
  {
   "cell_type": "code",
   "execution_count": 22,
   "metadata": {},
   "outputs": [],
   "source": [
    "# fig, axes = plt.subplots(nrows=2, ncols=3, figsize=(10, 8));\n",
    "# # fig.tight_layout();\n",
    "# plt.subplots_adjust(right=1.3);\n",
    "\n",
    "# # sns.distplot(df0918['d_pop_%'], ax=axes[0,0]);\n",
    "# sns.distplot(df0918['d_medinc_%'], ax=axes[0,0]);\n",
    "# sns.distplot(df0918['d_medhomeval_%'], ax=axes[0,1]);\n",
    "# sns.distplot(df0918['d_eduatt_pp'], ax=axes[0,2]);\n",
    "# sns.distplot(df0918['d_white_pp'], ax=axes[1,0]);\n",
    "# sns.distplot(df0918['d_black_pp'], ax=axes[1,1]);\n",
    "# sns.distplot(df0918['d_hispanics_pp'], ax=axes[1,2]);\n",
    "\n",
    "# axes[0,0].set_ylabel(None);\n",
    "# axes[0,1].set_ylabel(None);\n",
    "# axes[0,2].set_ylabel(None);\n",
    "# axes[1,0].set_ylabel(None);\n",
    "# axes[1,1].set_ylabel(None);\n",
    "# axes[1,2].set_ylabel(None);\n",
    "\n",
    "# plt.savefig('var_densities.png');"
   ]
  },
  {
   "cell_type": "code",
   "execution_count": 669,
   "metadata": {},
   "outputs": [],
   "source": [
    "from scipy.stats import normaltest\n",
    "from scipy.stats import shapiro"
   ]
  },
  {
   "cell_type": "code",
   "execution_count": 670,
   "metadata": {},
   "outputs": [
    {
     "name": "stdout",
     "output_type": "stream",
     "text": [
      "d_medinc_% is probably not normal\n",
      "d_medhomeval_% is probably not normal\n",
      "d_white_pp is probably not normal\n",
      "d_black_pp is probably not normal\n",
      "d_hispanics_pp is probably not normal\n",
      "d_eduatt_pp is probably not normal\n"
     ]
    }
   ],
   "source": [
    "alpha = 0.05\n",
    "\n",
    "for col in df0918.columns[2:]:\n",
    "    k2, p_pears = normaltest(df0918[col])\n",
    "    st, p_shapiro = shapiro(df0918[col])\n",
    "    if p_pears < alpha or p_shapiro < alpha:  # null hypothesis: x comes from a normal distribution\n",
    "        print(f\"{col} is probably not normal\")\n",
    "    else:\n",
    "        print(f\"{col} can be normal\")"
   ]
  },
  {
   "cell_type": "markdown",
   "metadata": {},
   "source": [
    "## Upload UCB classification for the NY tracts"
   ]
  },
  {
   "cell_type": "code",
   "execution_count": 44,
   "metadata": {},
   "outputs": [],
   "source": [
    "ucb = pd.read_excel('udp_ny_final_typology_jan_2019.xlsx')\n",
    "ucb = ucb.set_index('geoid')"
   ]
  },
  {
   "cell_type": "code",
   "execution_count": 45,
   "metadata": {},
   "outputs": [],
   "source": [
    "df0918['ucb_type'] = [ucb.loc[geoid, 'type'] if geoid in ucb.index else 'NA' for geoid in df0918.index]"
   ]
  },
  {
   "cell_type": "code",
   "execution_count": 47,
   "metadata": {},
   "outputs": [
    {
     "data": {
      "text/plain": [
       "ucb_type\n",
       "LI - At Risk of Gentrification                         293\n",
       "LI - Not Losing Low-Income Households                  388\n",
       "LI - Ongoing Displacement of Low-Income Households     308\n",
       "LI - Ongoing Gentrification                            201\n",
       "MHI - Advanced Gentrification                          304\n",
       "MHI - Ongoing Exclusion                                515\n",
       "MHI - Stable Exclusion                                1572\n",
       "Missing Data                                             8\n",
       "NA                                                       1\n",
       "VHI - Super Gentrification or Exclusion                235\n",
       "Name: name, dtype: int64"
      ]
     },
     "execution_count": 47,
     "metadata": {},
     "output_type": "execute_result"
    }
   ],
   "source": [
    "df0918.groupby('ucb_type')['name'].count()"
   ]
  },
  {
   "cell_type": "code",
   "execution_count": 48,
   "metadata": {},
   "outputs": [
    {
     "data": {
      "text/plain": [
       "['VHI - Super Gentrification or Exclusion',\n",
       " 'MHI - Stable Exclusion',\n",
       " 'MHI - Advanced Gentrification',\n",
       " 'MHI - Ongoing Exclusion',\n",
       " 'LI - Not Losing Low-Income Households',\n",
       " 'LI - At Risk of Gentrification',\n",
       " 'LI - Ongoing Displacement of Low-Income Households',\n",
       " 'LI - Ongoing Gentrification']"
      ]
     },
     "execution_count": 48,
     "metadata": {},
     "output_type": "execute_result"
    }
   ],
   "source": [
    "ucb_types = list(df0918.ucb_type.unique())[:-2]\n",
    "ucb_types"
   ]
  },
  {
   "cell_type": "code",
   "execution_count": 49,
   "metadata": {},
   "outputs": [],
   "source": [
    "# by_type = df0918[df0918['ucb_type'] == ucb_types[7]]\n",
    "\n",
    "# fig, axes = plt.subplots(nrows=2, ncols=3, figsize=(10, 8));\n",
    "# plt.subplots_adjust(right=1.3);\n",
    "\n",
    "# sns.distplot(df0918['d_medinc_%'], ax=axes[0,0], label='All Tracts');\n",
    "# sns.distplot(df0918['d_medhomeval_%'], ax=axes[0,1], label='All Tracts');\n",
    "# sns.distplot(df0918['d_eduatt_pp'], ax=axes[0,2], label='All Tracts');\n",
    "# sns.distplot(df0918['d_white_pp'], ax=axes[1,0], label='All Tracts');\n",
    "# sns.distplot(df0918['d_black_pp'], ax=axes[1,1], label='All Tracts');\n",
    "# sns.distplot(df0918['d_hispanics_pp'], ax=axes[1,2], label='All Tracts');\n",
    "\n",
    "# sns.distplot(by_type['d_medinc_%'], ax=axes[0,0], label='Ongoing Gentrification');\n",
    "# sns.distplot(by_type['d_medhomeval_%'], ax=axes[0,1], label='Ongoing Gentrification');\n",
    "# sns.distplot(by_type['d_eduatt_pp'], ax=axes[0,2], label='Ongoing Gentrification');\n",
    "# sns.distplot(by_type['d_white_pp'], ax=axes[1,0], label='Ongoing Gentrification');\n",
    "# sns.distplot(by_type['d_black_pp'], ax=axes[1,1], label='Ongoing Gentrification');\n",
    "# sns.distplot(by_type['d_hispanics_pp'], ax=axes[1,2], label='Ongoing Gentrification');\n",
    "\n",
    "# axes[0,0].set_ylabel(None);\n",
    "# axes[0,1].set_ylabel(None);\n",
    "# axes[0,2].set_ylabel(None);\n",
    "# axes[1,0].set_ylabel(None);\n",
    "# axes[1,1].set_ylabel(None);\n",
    "# axes[1,2].set_ylabel(None);\n",
    "\n",
    "# axes[0,0].legend();\n",
    "# axes[0,1].legend();\n",
    "# axes[0,2].legend();\n",
    "# axes[1,0].legend();\n",
    "# axes[1,1].legend();\n",
    "# axes[1,2].legend();"
   ]
  },
  {
   "cell_type": "code",
   "execution_count": 245,
   "metadata": {},
   "outputs": [],
   "source": [
    "elig = pd.read_csv('data_eligible_not_09_18.csv')"
   ]
  },
  {
   "cell_type": "code",
   "execution_count": 247,
   "metadata": {},
   "outputs": [],
   "source": [
    "elig = elig.set_index('geoid')"
   ]
  },
  {
   "cell_type": "code",
   "execution_count": 249,
   "metadata": {},
   "outputs": [],
   "source": [
    "elig = [True if geoid in elig.index else False for geoid in df0918.index]"
   ]
  },
  {
   "cell_type": "code",
   "execution_count": 250,
   "metadata": {},
   "outputs": [],
   "source": [
    "elig_df = df0918[elig]"
   ]
  },
  {
   "cell_type": "code",
   "execution_count": 259,
   "metadata": {},
   "outputs": [
    {
     "name": "stdout",
     "output_type": "stream",
     "text": [
      "d_medinc_% 6.654488071689002e-11\n",
      "d_medhomeval_% 3.3306690738754696e-16\n",
      "d_white_pp 0.00029465628989255865\n",
      "d_black_pp 0.8036090406867095\n",
      "d_hispanics_pp 0.00105874869853273\n",
      "d_eduatt_pp 3.3306690738754696e-16\n"
     ]
    }
   ],
   "source": [
    "for col in df0918.columns[2:8]:\n",
    "    st, p = ks_2samp(elig_df[col], columbia_gent[col])\n",
    "    print(col, p)"
   ]
  },
  {
   "cell_type": "code",
   "execution_count": null,
   "metadata": {},
   "outputs": [],
   "source": []
  },
  {
   "cell_type": "code",
   "execution_count": null,
   "metadata": {},
   "outputs": [],
   "source": []
  },
  {
   "cell_type": "code",
   "execution_count": null,
   "metadata": {},
   "outputs": [],
   "source": []
  },
  {
   "cell_type": "code",
   "execution_count": 254,
   "metadata": {},
   "outputs": [
    {
     "data": {
      "image/png": "[encoded data removed]",
      "text/plain": [
       "<Figure size 720x576 with 6 Axes>"
      ]
     },
     "metadata": {
      "needs_background": "light"
     },
     "output_type": "display_data"
    }
   ],
   "source": [
    "columbia = [True if geoid in gent_bf.index else False for geoid in df0918.index]\n",
    "columbia_gent = df0918[columbia]\n",
    "\n",
    "fig, axes = plt.subplots(nrows=2, ncols=3, figsize=(10, 8));\n",
    "plt.subplots_adjust(right=1.3);\n",
    "\n",
    "sns.distplot(elig_df['d_medinc_%'], ax=axes[0,0], label='Eligible to Gentrify');\n",
    "sns.distplot(elig_df['d_medhomeval_%'], ax=axes[0,1], label='Eligible to Gentrify');\n",
    "sns.distplot(elig_df['d_eduatt_pp'], ax=axes[0,2], label='Eligible to Gentrify');\n",
    "sns.distplot(elig_df['d_white_pp'], ax=axes[1,0], label='Eligible to Gentrify');\n",
    "sns.distplot(elig_df['d_black_pp'], ax=axes[1,1], label='Eligible to Gentrify');\n",
    "sns.distplot(elig_df['d_hispanics_pp'], ax=axes[1,2], label='Eligible to Gentrify');\n",
    "\n",
    "sns.distplot(columbia_gent['d_medinc_%'], ax=axes[0,0], label='Gentrified (Governing)');\n",
    "sns.distplot(columbia_gent['d_medhomeval_%'], ax=axes[0,1], label='Gentrified (Governing)');\n",
    "sns.distplot(columbia_gent['d_eduatt_pp'], ax=axes[0,2], label='Gentrified (Governing)');\n",
    "sns.distplot(columbia_gent['d_white_pp'], ax=axes[1,0], label='Gentrified (Governing)');\n",
    "sns.distplot(columbia_gent['d_black_pp'], ax=axes[1,1], label='Gentrified (Governing)');\n",
    "sns.distplot(columbia_gent['d_hispanics_pp'], ax=axes[1,2], label='Gentrified (Governing)');\n",
    "\n",
    "axes[0,0].set_ylabel(None);\n",
    "axes[0,1].set_ylabel(None);\n",
    "axes[0,2].set_ylabel(None);\n",
    "axes[1,0].set_ylabel(None);\n",
    "axes[1,1].set_ylabel(None);\n",
    "axes[1,2].set_ylabel(None);\n",
    "\n",
    "axes[0,0].legend();\n",
    "axes[0,1].legend();\n",
    "axes[0,2].legend();\n",
    "axes[1,0].legend();\n",
    "axes[1,1].legend();\n",
    "axes[1,2].legend();"
   ]
  },
  {
   "cell_type": "code",
   "execution_count": 825,
   "metadata": {},
   "outputs": [],
   "source": [
    "gauss_gent.to_csv('gentrified_cluster.csv')"
   ]
  },
  {
   "cell_type": "code",
   "execution_count": 860,
   "metadata": {},
   "outputs": [],
   "source": [
    "# single_clust = [True if geoid == 3 else False for geoid in clusters]\n",
    "# gauss_gent = df0918[single_clust]\n",
    "\n",
    "# fig, axes = plt.subplots(nrows=2, ncols=3, figsize=(10, 8));\n",
    "# plt.subplots_adjust(right=1.3);\n",
    "\n",
    "# sns.distplot(df0918['d_medinc_%'], ax=axes[0,0], label='All Tracts');\n",
    "# sns.distplot(df0918['d_medhomeval_%'], ax=axes[0,1], label='All Tracts');\n",
    "# sns.distplot(df0918['d_eduatt_pp'], ax=axes[0,2], label='All Tracts');\n",
    "# sns.distplot(df0918['d_white_pp'], ax=axes[1,0], label='All Tracts');\n",
    "# sns.distplot(df0918['d_black_pp'], ax=axes[1,1], label='All Tracts');\n",
    "# sns.distplot(df0918['d_hispanics_pp'], ax=axes[1,2], label='All Tracts');\n",
    "\n",
    "# sns.distplot(gauss_gent['d_medinc_%'], ax=axes[0,0], label='Cluster 4');\n",
    "# sns.distplot(gauss_gent['d_medhomeval_%'], ax=axes[0,1], label='Cluster 4');\n",
    "# sns.distplot(gauss_gent['d_eduatt_pp'], ax=axes[0,2], label='Cluster 4');\n",
    "# sns.distplot(gauss_gent['d_white_pp'], ax=axes[1,0], label='Cluster 4');\n",
    "# sns.distplot(gauss_gent['d_black_pp'], ax=axes[1,1], label='Cluster 4');\n",
    "# sns.distplot(gauss_gent['d_hispanics_pp'], ax=axes[1,2], label='Cluster 4');\n",
    "\n",
    "# axes[0,0].set_ylabel(None);\n",
    "# axes[0,1].set_ylabel(None);\n",
    "# axes[0,2].set_ylabel(None);\n",
    "# axes[1,0].set_ylabel(None);\n",
    "# axes[1,1].set_ylabel(None);\n",
    "# axes[1,2].set_ylabel(None);\n",
    "\n",
    "# axes[0,0].legend();\n",
    "# axes[0,1].legend();\n",
    "# axes[0,2].legend();\n",
    "# axes[1,0].legend();\n",
    "# axes[1,1].legend();\n",
    "# axes[1,2].legend();\n",
    "\n",
    "# plt.savefig('gaussian_cluster_gentr.png');"
   ]
  },
  {
   "cell_type": "code",
   "execution_count": 134,
   "metadata": {},
   "outputs": [
    {
     "data": {
      "text/plain": [
       "(126, 9)"
      ]
     },
     "execution_count": 134,
     "metadata": {},
     "output_type": "execute_result"
    }
   ],
   "source": [
    "kmeans_gent.shape"
   ]
  },
  {
   "cell_type": "markdown",
   "metadata": {},
   "source": [
    "# Apply Unsupervized Classificators to Label Gentrified Tracts"
   ]
  },
  {
   "cell_type": "markdown",
   "metadata": {},
   "source": [
    "First apply simple filter to see if there an intersection in the tail of the above distributions:"
   ]
  },
  {
   "cell_type": "code",
   "execution_count": 568,
   "metadata": {},
   "outputs": [],
   "source": [
    "high_inc_prices = [df0918.loc[geoid, 'd_medinc_%'] > 50 and df0918.loc[geoid, 'd_medhomeval_%'] > 50 for geoid in df0918.index]"
   ]
  },
  {
   "cell_type": "code",
   "execution_count": 569,
   "metadata": {},
   "outputs": [],
   "source": [
    "gent = df0918[high_inc_prices]"
   ]
  },
  {
   "cell_type": "code",
   "execution_count": 570,
   "metadata": {},
   "outputs": [
    {
     "data": {
      "text/html": [
       "<div>\n",
       "<style scoped>\n",
       "    .dataframe tbody tr th:only-of-type {\n",
       "        vertical-align: middle;\n",
       "    }\n",
       "\n",
       "    .dataframe tbody tr th {\n",
       "        vertical-align: top;\n",
       "    }\n",
       "\n",
       "    .dataframe thead th {\n",
       "        text-align: right;\n",
       "    }\n",
       "</style>\n",
       "<table border=\"1\" class=\"dataframe\">\n",
       "  <thead>\n",
       "    <tr style=\"text-align: right;\">\n",
       "      <th></th>\n",
       "      <th>name</th>\n",
       "      <th>d_pop_%</th>\n",
       "      <th>d_medinc_%</th>\n",
       "      <th>d_medhomeval_%</th>\n",
       "      <th>d_white_pp</th>\n",
       "      <th>d_black_pp</th>\n",
       "      <th>d_hispanics_pp</th>\n",
       "      <th>d_eduatt_pp</th>\n",
       "    </tr>\n",
       "    <tr>\n",
       "      <th>geoid</th>\n",
       "      <th></th>\n",
       "      <th></th>\n",
       "      <th></th>\n",
       "      <th></th>\n",
       "      <th></th>\n",
       "      <th></th>\n",
       "      <th></th>\n",
       "      <th></th>\n",
       "    </tr>\n",
       "  </thead>\n",
       "  <tbody>\n",
       "    <tr>\n",
       "      <th>34003053100</th>\n",
       "      <td>Census Tract 531, Bergen County, New Jersey</td>\n",
       "      <td>-14.278089</td>\n",
       "      <td>56.039331</td>\n",
       "      <td>78.519821</td>\n",
       "      <td>-25.234717</td>\n",
       "      <td>4.545455</td>\n",
       "      <td>0.938061</td>\n",
       "      <td>-2.773169</td>\n",
       "    </tr>\n",
       "    <tr>\n",
       "      <th>36005003300</th>\n",
       "      <td>Census Tract 33, Bronx County, New York</td>\n",
       "      <td>12.119289</td>\n",
       "      <td>67.474894</td>\n",
       "      <td>59.211891</td>\n",
       "      <td>0.980109</td>\n",
       "      <td>8.542541</td>\n",
       "      <td>-14.502861</td>\n",
       "      <td>0.012066</td>\n",
       "    </tr>\n",
       "    <tr>\n",
       "      <th>36047003500</th>\n",
       "      <td>Census Tract 35, Kings County, New York</td>\n",
       "      <td>44.648318</td>\n",
       "      <td>69.352644</td>\n",
       "      <td>55.649844</td>\n",
       "      <td>23.957303</td>\n",
       "      <td>-18.513167</td>\n",
       "      <td>-1.308584</td>\n",
       "      <td>11.313853</td>\n",
       "    </tr>\n",
       "    <tr>\n",
       "      <th>36047003900</th>\n",
       "      <td>Census Tract 39, Kings County, New York</td>\n",
       "      <td>14.980545</td>\n",
       "      <td>106.196477</td>\n",
       "      <td>71.536103</td>\n",
       "      <td>6.933115</td>\n",
       "      <td>-6.141819</td>\n",
       "      <td>-8.866789</td>\n",
       "      <td>4.621446</td>\n",
       "    </tr>\n",
       "    <tr>\n",
       "      <th>36047006000</th>\n",
       "      <td>Census Tract 60, Kings County, New York</td>\n",
       "      <td>13.320965</td>\n",
       "      <td>98.431064</td>\n",
       "      <td>56.140051</td>\n",
       "      <td>-3.276678</td>\n",
       "      <td>-1.261596</td>\n",
       "      <td>0.620628</td>\n",
       "      <td>-1.705224</td>\n",
       "    </tr>\n",
       "    <tr>\n",
       "      <th>...</th>\n",
       "      <td>...</td>\n",
       "      <td>...</td>\n",
       "      <td>...</td>\n",
       "      <td>...</td>\n",
       "      <td>...</td>\n",
       "      <td>...</td>\n",
       "      <td>...</td>\n",
       "      <td>...</td>\n",
       "    </tr>\n",
       "    <tr>\n",
       "      <th>36081024500</th>\n",
       "      <td>Census Tract 245, Queens County, New York</td>\n",
       "      <td>7.785179</td>\n",
       "      <td>84.820892</td>\n",
       "      <td>689.766082</td>\n",
       "      <td>-5.682226</td>\n",
       "      <td>-2.611486</td>\n",
       "      <td>1.191014</td>\n",
       "      <td>9.015975</td>\n",
       "    </tr>\n",
       "    <tr>\n",
       "      <th>36081025500</th>\n",
       "      <td>Census Tract 255, Queens County, New York</td>\n",
       "      <td>-11.609337</td>\n",
       "      <td>72.526780</td>\n",
       "      <td>225.212867</td>\n",
       "      <td>-11.541722</td>\n",
       "      <td>0.000000</td>\n",
       "      <td>6.600484</td>\n",
       "      <td>3.004279</td>\n",
       "    </tr>\n",
       "    <tr>\n",
       "      <th>36081048900</th>\n",
       "      <td>Census Tract 489, Queens County, New York</td>\n",
       "      <td>11.657835</td>\n",
       "      <td>53.406399</td>\n",
       "      <td>87.145867</td>\n",
       "      <td>-3.085079</td>\n",
       "      <td>0.067797</td>\n",
       "      <td>0.225766</td>\n",
       "      <td>8.966551</td>\n",
       "    </tr>\n",
       "    <tr>\n",
       "      <th>36081055900</th>\n",
       "      <td>Census Tract 559, Queens County, New York</td>\n",
       "      <td>46.640316</td>\n",
       "      <td>195.248400</td>\n",
       "      <td>54.374194</td>\n",
       "      <td>6.308130</td>\n",
       "      <td>-3.281023</td>\n",
       "      <td>3.665981</td>\n",
       "      <td>7.314561</td>\n",
       "    </tr>\n",
       "    <tr>\n",
       "      <th>36081087100</th>\n",
       "      <td>Census Tract 871, Queens County, New York</td>\n",
       "      <td>63.194888</td>\n",
       "      <td>80.626268</td>\n",
       "      <td>817.206704</td>\n",
       "      <td>-0.095722</td>\n",
       "      <td>2.773648</td>\n",
       "      <td>-15.126157</td>\n",
       "      <td>-1.265746</td>\n",
       "    </tr>\n",
       "  </tbody>\n",
       "</table>\n",
       "<p>85 rows × 8 columns</p>\n",
       "</div>"
      ],
      "text/plain": [
       "                                                    name    d_pop_%  \\\n",
       "geoid                                                                 \n",
       "34003053100  Census Tract 531, Bergen County, New Jersey -14.278089   \n",
       "36005003300      Census Tract 33, Bronx County, New York  12.119289   \n",
       "36047003500      Census Tract 35, Kings County, New York  44.648318   \n",
       "36047003900      Census Tract 39, Kings County, New York  14.980545   \n",
       "36047006000      Census Tract 60, Kings County, New York  13.320965   \n",
       "...                                                  ...        ...   \n",
       "36081024500    Census Tract 245, Queens County, New York   7.785179   \n",
       "36081025500    Census Tract 255, Queens County, New York -11.609337   \n",
       "36081048900    Census Tract 489, Queens County, New York  11.657835   \n",
       "36081055900    Census Tract 559, Queens County, New York  46.640316   \n",
       "36081087100    Census Tract 871, Queens County, New York  63.194888   \n",
       "\n",
       "             d_medinc_%  d_medhomeval_%  d_white_pp  d_black_pp  \\\n",
       "geoid                                                             \n",
       "34003053100   56.039331       78.519821  -25.234717    4.545455   \n",
       "36005003300   67.474894       59.211891    0.980109    8.542541   \n",
       "36047003500   69.352644       55.649844   23.957303  -18.513167   \n",
       "36047003900  106.196477       71.536103    6.933115   -6.141819   \n",
       "36047006000   98.431064       56.140051   -3.276678   -1.261596   \n",
       "...                 ...             ...         ...         ...   \n",
       "36081024500   84.820892      689.766082   -5.682226   -2.611486   \n",
       "36081025500   72.526780      225.212867  -11.541722    0.000000   \n",
       "36081048900   53.406399       87.145867   -3.085079    0.067797   \n",
       "36081055900  195.248400       54.374194    6.308130   -3.281023   \n",
       "36081087100   80.626268      817.206704   -0.095722    2.773648   \n",
       "\n",
       "             d_hispanics_pp  d_eduatt_pp  \n",
       "geoid                                     \n",
       "34003053100        0.938061    -2.773169  \n",
       "36005003300      -14.502861     0.012066  \n",
       "36047003500       -1.308584    11.313853  \n",
       "36047003900       -8.866789     4.621446  \n",
       "36047006000        0.620628    -1.705224  \n",
       "...                     ...          ...  \n",
       "36081024500        1.191014     9.015975  \n",
       "36081025500        6.600484     3.004279  \n",
       "36081048900        0.225766     8.966551  \n",
       "36081055900        3.665981     7.314561  \n",
       "36081087100      -15.126157    -1.265746  \n",
       "\n",
       "[85 rows x 8 columns]"
      ]
     },
     "execution_count": 570,
     "metadata": {},
     "output_type": "execute_result"
    }
   ],
   "source": [
    "gent"
   ]
  },
  {
   "cell_type": "code",
   "execution_count": 571,
   "metadata": {},
   "outputs": [
    {
     "data": {
      "text/plain": [
       "(85, 8)"
      ]
     },
     "execution_count": 571,
     "metadata": {},
     "output_type": "execute_result"
    }
   ],
   "source": [
    "gent.shape"
   ]
  },
  {
   "cell_type": "markdown",
   "metadata": {},
   "source": [
    "Compare the above to the results obtained from the application of the Governing Magazine methodology:"
   ]
  },
  {
   "cell_type": "code",
   "execution_count": 40,
   "metadata": {},
   "outputs": [],
   "source": [
    "gent_bf = pd.read_csv('data_gentrified_09_18.csv')\n",
    "gent_bf = gent_bf.set_index('geoid')"
   ]
  },
  {
   "cell_type": "code",
   "execution_count": 771,
   "metadata": {},
   "outputs": [
    {
     "data": {
      "text/plain": [
       "14"
      ]
     },
     "execution_count": 771,
     "metadata": {},
     "output_type": "execute_result"
    }
   ],
   "source": [
    "sum([True for geoid in gent_bf.index if geoid in gent.index])"
   ]
  },
  {
   "cell_type": "code",
   "execution_count": 773,
   "metadata": {},
   "outputs": [],
   "source": [
    "gent_bf['ucb_type'] = [ucb.loc[geoid, 'type'] if geoid in ucb.index else 'NA' for geoid in gent_bf.index]"
   ]
  },
  {
   "cell_type": "code",
   "execution_count": 775,
   "metadata": {},
   "outputs": [
    {
     "data": {
      "text/plain": [
       "{'LI - Ongoing Displacement of Low-Income Households': 18,\n",
       " 'LI - Ongoing Gentrification': 14,\n",
       " 'MHI - Stable Exclusion': 12,\n",
       " 'LI - Not Losing Low-Income Households': 8,\n",
       " 'LI - At Risk of Gentrification': 8,\n",
       " 'MHI - Ongoing Exclusion': 4,\n",
       " 'MHI - Advanced Gentrification': 2}"
      ]
     },
     "execution_count": 775,
     "metadata": {},
     "output_type": "execute_result"
    }
   ],
   "source": [
    "gent_bf.ucb_type.value_counts().to_dict()"
   ]
  },
  {
   "cell_type": "markdown",
   "metadata": {},
   "source": [
    "## Apply PCA"
   ]
  },
  {
   "cell_type": "code",
   "execution_count": 264,
   "metadata": {},
   "outputs": [],
   "source": [
    "from sklearn.decomposition import PCA"
   ]
  },
  {
   "cell_type": "code",
   "execution_count": 266,
   "metadata": {},
   "outputs": [],
   "source": [
    "pca = PCA(n_components=2)\n",
    "X = df0918.iloc[:, 2:8]\n",
    "Xt = pca.fit_transform(X)"
   ]
  },
  {
   "cell_type": "code",
   "execution_count": 290,
   "metadata": {},
   "outputs": [
    {
     "data": {
      "image/png": "[encoded data removed]",
      "text/plain": [
       "<Figure size 432x288 with 1 Axes>"
      ]
     },
     "metadata": {
      "needs_background": "light"
     },
     "output_type": "display_data"
    }
   ],
   "source": [
    "plt.scatter(*Xt.T, label='Principal Components');\n",
    "plt.scatter(df0918['d_medhomeval_%'], df0918['d_medinc_%'], label='Actual Data on Home Values and Income');\n",
    "plt.xlabel(f'PC 1, {round(100 * exp_var[0])}% explained variance');\n",
    "plt.ylabel(f'PC 2, {round(100 * exp_var[1])}% explained variance');\n",
    "plt.legend();"
   ]
  },
  {
   "cell_type": "code",
   "execution_count": 609,
   "metadata": {},
   "outputs": [
    {
     "data": {
      "text/plain": [
       "array([[ 0.13658566,  0.99010166,  0.02123916, -0.01287919, -0.01970651,\n",
       "         0.00614363],\n",
       "       [ 0.98740939, -0.13837328,  0.04395367, -0.0131676 , -0.037288  ,\n",
       "         0.04878355]])"
      ]
     },
     "execution_count": 609,
     "metadata": {},
     "output_type": "execute_result"
    }
   ],
   "source": [
    "pca.components_"
   ]
  },
  {
   "cell_type": "code",
   "execution_count": 268,
   "metadata": {},
   "outputs": [],
   "source": [
    "exp_var = pca.explained_variance_ratio_"
   ]
  },
  {
   "cell_type": "markdown",
   "metadata": {},
   "source": [
    "The first component is essentially home value, the second is median income."
   ]
  },
  {
   "cell_type": "markdown",
   "metadata": {},
   "source": [
    "## Apply one-class SVM for novelty detection"
   ]
  },
  {
   "cell_type": "markdown",
   "metadata": {},
   "source": [
    "First, scale the data:"
   ]
  },
  {
   "cell_type": "code",
   "execution_count": 578,
   "metadata": {},
   "outputs": [],
   "source": [
    "from sklearn.svm import OneClassSVM"
   ]
  },
  {
   "cell_type": "code",
   "execution_count": 628,
   "metadata": {},
   "outputs": [
    {
     "data": {
      "text/plain": [
       "(3825, 6)"
      ]
     },
     "execution_count": 628,
     "metadata": {},
     "output_type": "execute_result"
    }
   ],
   "source": [
    "Xt.shape"
   ]
  },
  {
   "cell_type": "code",
   "execution_count": 613,
   "metadata": {},
   "outputs": [],
   "source": [
    "oneclass_svm = OneClassSVM()"
   ]
  },
  {
   "cell_type": "code",
   "execution_count": 614,
   "metadata": {},
   "outputs": [],
   "source": [
    "oneclass_svm.fit(Xt);\n",
    "classif = oneclass_svm.predict(Xt);"
   ]
  },
  {
   "cell_type": "code",
   "execution_count": 615,
   "metadata": {},
   "outputs": [],
   "source": [
    "novelties = [True if el == -1 else False for el in classif]\n",
    "gentr_svm = df0918[novelties]"
   ]
  },
  {
   "cell_type": "code",
   "execution_count": 616,
   "metadata": {},
   "outputs": [
    {
     "data": {
      "text/plain": [
       "(1913, 8)"
      ]
     },
     "execution_count": 616,
     "metadata": {},
     "output_type": "execute_result"
    }
   ],
   "source": [
    "gentr_svm.shape"
   ]
  },
  {
   "cell_type": "code",
   "execution_count": null,
   "metadata": {},
   "outputs": [],
   "source": [
    "for clust in range(1):\n",
    "    cluster = [True if el == clust else False for el in clusters]\n",
    "    gentr_gauss_mix = df0918[cluster]\n",
    "    freq_distr = gentr_gauss_mix['ucb_type'].value_counts().to_dict()\n",
    "    print(f'Cluster {clust + 1}. Number of tracts : {sum(cluster)}.')\n",
    "    print('----------------------------------')\n",
    "    for key, value in freq_distr.items():\n",
    "        print(f'{key} : {value}')\n",
    "    print('\\n')"
   ]
  },
  {
   "cell_type": "markdown",
   "metadata": {},
   "source": [
    "That's too many outliers."
   ]
  },
  {
   "cell_type": "markdown",
   "metadata": {},
   "source": [
    "## Apply Isolation Forest to detect outliers"
   ]
  },
  {
   "cell_type": "code",
   "execution_count": 74,
   "metadata": {},
   "outputs": [],
   "source": [
    "from sklearn.ensemble import IsolationForest"
   ]
  },
  {
   "cell_type": "code",
   "execution_count": 80,
   "metadata": {},
   "outputs": [],
   "source": [
    "cont = 150 / 3825"
   ]
  },
  {
   "cell_type": "code",
   "execution_count": 81,
   "metadata": {},
   "outputs": [
    {
     "data": {
      "text/plain": [
       "IsolationForest(contamination=0.0392156862745098)"
      ]
     },
     "execution_count": 81,
     "metadata": {},
     "output_type": "execute_result"
    }
   ],
   "source": [
    "clf = IsolationForest(n_estimators=100, contamination=cont)\n",
    "clf.fit(Xt)"
   ]
  },
  {
   "cell_type": "code",
   "execution_count": 82,
   "metadata": {},
   "outputs": [],
   "source": [
    "classif = clf.predict(Xt)"
   ]
  },
  {
   "cell_type": "code",
   "execution_count": 83,
   "metadata": {},
   "outputs": [],
   "source": [
    "outliers = [True if el < 0 else False for el in classif]\n",
    "gentr_isoforest = df0918[outliers]"
   ]
  },
  {
   "cell_type": "code",
   "execution_count": 84,
   "metadata": {},
   "outputs": [
    {
     "data": {
      "text/plain": [
       "(150, 9)"
      ]
     },
     "execution_count": 84,
     "metadata": {},
     "output_type": "execute_result"
    }
   ],
   "source": [
    "gentr_isoforest.shape"
   ]
  },
  {
   "cell_type": "code",
   "execution_count": 86,
   "metadata": {},
   "outputs": [
    {
     "data": {
      "text/plain": [
       "19"
      ]
     },
     "execution_count": 86,
     "metadata": {},
     "output_type": "execute_result"
    }
   ],
   "source": [
    "sum([True for geoid in gent_bf.index if geoid in gentr_isoforest.index])"
   ]
  },
  {
   "cell_type": "code",
   "execution_count": 90,
   "metadata": {},
   "outputs": [
    {
     "data": {
      "text/plain": [
       "{'LI - Ongoing Displacement of Low-Income Households': 28,\n",
       " 'LI - Ongoing Gentrification': 28,\n",
       " 'MHI - Stable Exclusion': 27,\n",
       " 'MHI - Ongoing Exclusion': 25,\n",
       " 'MHI - Advanced Gentrification': 18,\n",
       " 'LI - Not Losing Low-Income Households': 13,\n",
       " 'LI - At Risk of Gentrification': 9,\n",
       " 'VHI - Super Gentrification or Exclusion': 1,\n",
       " 'Missing Data': 1}"
      ]
     },
     "execution_count": 90,
     "metadata": {},
     "output_type": "execute_result"
    }
   ],
   "source": [
    "gentr_isoforest.ucb_type.value_counts().to_dict()"
   ]
  },
  {
   "cell_type": "code",
   "execution_count": 88,
   "metadata": {},
   "outputs": [],
   "source": [
    "# fig, axes = plt.subplots(nrows=2, ncols=3, figsize=(10, 8));\n",
    "# plt.subplots_adjust(right=1.3);\n",
    "\n",
    "# sns.distplot(df0918['d_medinc_%'], ax=axes[0,0], label='All Tracts');\n",
    "# sns.distplot(df0918['d_medhomeval_%'], ax=axes[0,1], label='All Tracts');\n",
    "# sns.distplot(df0918['d_eduatt_pp'], ax=axes[0,2], label='All Tracts');\n",
    "# sns.distplot(df0918['d_white_pp'], ax=axes[1,0], label='All Tracts');\n",
    "# sns.distplot(df0918['d_black_pp'], ax=axes[1,1], label='All Tracts');\n",
    "# sns.distplot(df0918['d_hispanics_pp'], ax=axes[1,2], label='All Tracts');\n",
    "\n",
    "# sns.distplot(gentr_isoforest['d_medinc_%'], ax=axes[0,0], label='Isolation Forest Outliers');\n",
    "# sns.distplot(gentr_isoforest['d_medhomeval_%'], ax=axes[0,1], label='Isolation Forest Outliers');\n",
    "# sns.distplot(gentr_isoforest['d_eduatt_pp'], ax=axes[0,2], label='Isolation Forest Outliers');\n",
    "# sns.distplot(gentr_isoforest['d_white_pp'], ax=axes[1,0], label='Isolation Forest Outliers');\n",
    "# sns.distplot(gentr_isoforest['d_black_pp'], ax=axes[1,1], label='Isolation Forest Outliers');\n",
    "# sns.distplot(gentr_isoforest['d_hispanics_pp'], ax=axes[1,2], label='Isolation Forest Outliers');\n",
    "\n",
    "# axes[0,0].set_ylabel(None);\n",
    "# axes[0,1].set_ylabel(None);\n",
    "# axes[0,2].set_ylabel(None);\n",
    "# axes[1,0].set_ylabel(None);\n",
    "# axes[1,1].set_ylabel(None);\n",
    "# axes[1,2].set_ylabel(None);\n",
    "\n",
    "# axes[0,0].legend();\n",
    "# axes[0,1].legend();\n",
    "# axes[0,2].legend();\n",
    "# axes[1,0].legend();\n",
    "# axes[1,1].legend();\n",
    "# axes[1,2].legend();"
   ]
  },
  {
   "cell_type": "markdown",
   "metadata": {},
   "source": [
    "## Apply Gaussian Mixture Algorithm"
   ]
  },
  {
   "cell_type": "code",
   "execution_count": 692,
   "metadata": {},
   "outputs": [],
   "source": [
    "from sklearn.mixture import GaussianMixture"
   ]
  },
  {
   "cell_type": "code",
   "execution_count": 742,
   "metadata": {},
   "outputs": [],
   "source": [
    "gm = GaussianMixture(n_components=8, covariance_type='full')\n",
    "gm.fit(Xt)\n",
    "clusters = gm.predict(Xt)"
   ]
  },
  {
   "cell_type": "code",
   "execution_count": 743,
   "metadata": {},
   "outputs": [
    {
     "data": {
      "image/png": "[encoded data removed]",
      "text/plain": [
       "<Figure size 432x288 with 1 Axes>"
      ]
     },
     "metadata": {
      "needs_background": "light"
     },
     "output_type": "display_data"
    }
   ],
   "source": [
    "plt.hist(clusters, bins=8);"
   ]
  },
  {
   "cell_type": "code",
   "execution_count": 744,
   "metadata": {},
   "outputs": [],
   "source": [
    "clust_1 = [True if el == 0 else False for el in clusters]\n",
    "gentr_gauss_mix = df0918[clust_1]"
   ]
  },
  {
   "cell_type": "markdown",
   "metadata": {},
   "source": [
    "Most frequent UCB classification for each cluster:"
   ]
  },
  {
   "cell_type": "code",
   "execution_count": 753,
   "metadata": {},
   "outputs": [
    {
     "data": {
      "text/plain": [
       "{'MHI - Stable Exclusion': 1572,\n",
       " 'MHI - Ongoing Exclusion': 515,\n",
       " 'LI - Not Losing Low-Income Households': 388,\n",
       " 'LI - Ongoing Displacement of Low-Income Households': 308,\n",
       " 'MHI - Advanced Gentrification': 304,\n",
       " 'LI - At Risk of Gentrification': 293,\n",
       " 'VHI - Super Gentrification or Exclusion': 235,\n",
       " 'LI - Ongoing Gentrification': 201,\n",
       " 'Missing Data': 8,\n",
       " 'NA': 1}"
      ]
     },
     "execution_count": 753,
     "metadata": {},
     "output_type": "execute_result"
    }
   ],
   "source": [
    "df0918['ucb_type'].value_counts().to_dict()"
   ]
  },
  {
   "cell_type": "code",
   "execution_count": 762,
   "metadata": {},
   "outputs": [],
   "source": [
    "freq_distr = gentr_gauss_mix['ucb_type'].value_counts().to_dict()"
   ]
  },
  {
   "cell_type": "code",
   "execution_count": 828,
   "metadata": {},
   "outputs": [
    {
     "name": "stdout",
     "output_type": "stream",
     "text": [
      "Cluster 4. Number of tracts : 224.\n",
      "----------------------------------\n",
      "MHI - Stable Exclusion : 51\n",
      "LI - Ongoing Gentrification : 38\n",
      "MHI - Ongoing Exclusion : 36\n",
      "LI - Ongoing Displacement of Low-Income Households : 30\n",
      "MHI - Advanced Gentrification : 22\n",
      "LI - Not Losing Low-Income Households : 21\n",
      "LI - At Risk of Gentrification : 18\n",
      "VHI - Super Gentrification or Exclusion : 7\n",
      "Missing Data : 1\n",
      "\n",
      "\n"
     ]
    }
   ],
   "source": [
    "#for clust in range(0, 8):\n",
    "clust = 3\n",
    "cluster = [True if el == clust else False for el in clusters]\n",
    "gentr_gauss_mix = df0918[cluster]\n",
    "freq_distr = gentr_gauss_mix['ucb_type'].value_counts().to_dict()\n",
    "# max_key = max(freq_distr, key=freq_distr.get)\n",
    "# most_freq = max(list(freq_distr.values()))\n",
    "# Most frequent UCB type : {max_key} ({most_freq}\n",
    "print(f'Cluster {clust + 1}. Number of tracts : {sum(cluster)}.')\n",
    "print('----------------------------------')\n",
    "for key, value in freq_distr.items():\n",
    "    print(f'{key} : {value}')\n",
    "print('\\n')"
   ]
  },
  {
   "cell_type": "code",
   "execution_count": 829,
   "metadata": {},
   "outputs": [],
   "source": [
    "#gentr_gauss_mix"
   ]
  },
  {
   "cell_type": "code",
   "execution_count": 830,
   "metadata": {},
   "outputs": [],
   "source": [
    "# fig, ax = fig, axes = plt.subplots(nrows=2, ncols=2, figsize=(10, 8));\n",
    "\n",
    "# sns.distplot(gentr_gauss_mix['d_medinc_%'], ax=ax[0,0]);\n",
    "# sns.distplot(df0918['d_medinc_%'], ax=ax[0,0]);\n",
    "\n",
    "# sns.distplot(gentr_gauss_mix['d_medhomeval_%'], ax=ax[0,1]);\n",
    "# sns.distplot(df0918['d_medhomeval_%'], ax=ax[0,1]);\n",
    "\n",
    "# sns.distplot(gentr_gauss_mix['d_eduatt_pp'], ax=ax[1,0]);\n",
    "# sns.distplot(df0918['d_eduatt_pp'], ax=ax[1,0]);\n",
    "\n",
    "# sns.distplot(gentr_gauss_mix['d_white_pp'], ax=ax[1,1]);\n",
    "# sns.distplot(df0918['d_white_pp'], ax=ax[1,1]);"
   ]
  },
  {
   "cell_type": "markdown",
   "metadata": {},
   "source": [
    "## K-means clustering"
   ]
  },
  {
   "cell_type": "code",
   "execution_count": 18,
   "metadata": {},
   "outputs": [],
   "source": [
    "from sklearn.cluster import KMeans\n",
    "from sklearn.preprocessing import StandardScaler"
   ]
  },
  {
   "cell_type": "code",
   "execution_count": 19,
   "metadata": {},
   "outputs": [],
   "source": [
    "scaler = StandardScaler()\n",
    "X = df0918.iloc[:, 2:]\n",
    "Xt = scaler.fit_transform(X)"
   ]
  },
  {
   "cell_type": "code",
   "execution_count": 23,
   "metadata": {},
   "outputs": [],
   "source": [
    "kmeans = KMeans(n_clusters=8, max_iter=1000);\n",
    "kmeans.fit(Xt);"
   ]
  },
  {
   "cell_type": "code",
   "execution_count": 24,
   "metadata": {},
   "outputs": [],
   "source": [
    "kmeans_clusters = kmeans.predict(Xt)"
   ]
  },
  {
   "cell_type": "code",
   "execution_count": 25,
   "metadata": {},
   "outputs": [
    {
     "data": {
      "image/png": "[encoded data removed]",
      "text/plain": [
       "<Figure size 432x288 with 1 Axes>"
      ]
     },
     "metadata": {
      "needs_background": "light"
     },
     "output_type": "display_data"
    }
   ],
   "source": [
    "plt.hist(kmeans_clusters, bins=8);"
   ]
  },
  {
   "cell_type": "code",
   "execution_count": 839,
   "metadata": {},
   "outputs": [],
   "source": [
    "freq_distr = gentr_gauss_mix['ucb_type'].value_counts().to_dict()\n",
    "print(f'Cluster {clust + 1}. Number of tracts : {sum(cluster)}.')\n",
    "for key, value in freq_distr.items():\n",
    "    print(f'{key} : {value}')\n",
    "print('\\n')"
   ]
  },
  {
   "cell_type": "code",
   "execution_count": 26,
   "metadata": {},
   "outputs": [],
   "source": [
    "single_clust = [True if geoid == 7 else False for geoid in kmeans_clusters]\n",
    "kmeans_gent = df0918[single_clust]"
   ]
  },
  {
   "cell_type": "code",
   "execution_count": 65,
   "metadata": {},
   "outputs": [],
   "source": [
    "gentr_ucb_types = kmeans_gent['ucb_type'].value_counts().to_dict()"
   ]
  },
  {
   "cell_type": "code",
   "execution_count": 206,
   "metadata": {},
   "outputs": [
    {
     "data": {
      "text/plain": [
       "106"
      ]
     },
     "execution_count": 206,
     "metadata": {},
     "output_type": "execute_result"
    }
   ],
   "source": [
    "25 + 28 + 20 + 17 + 16 "
   ]
  },
  {
   "cell_type": "code",
   "execution_count": 66,
   "metadata": {},
   "outputs": [
    {
     "data": {
      "text/plain": [
       "{'MHI - Ongoing Exclusion': 28,\n",
       " 'MHI - Stable Exclusion': 25,\n",
       " 'LI - Ongoing Displacement of Low-Income Households': 20,\n",
       " 'LI - Ongoing Gentrification': 17,\n",
       " 'MHI - Advanced Gentrification': 16,\n",
       " 'LI - Not Losing Low-Income Households': 15,\n",
       " 'LI - At Risk of Gentrification': 3,\n",
       " 'VHI - Super Gentrification or Exclusion': 2}"
      ]
     },
     "execution_count": 66,
     "metadata": {},
     "output_type": "execute_result"
    }
   ],
   "source": [
    "gentr_ucb_types"
   ]
  },
  {
   "cell_type": "code",
   "execution_count": 130,
   "metadata": {},
   "outputs": [],
   "source": [
    "gentr_ucb_types_df = pd.DataFrame.from_dict(gentr_ucb_types, orient='index')\n",
    "gentr_ucb_types_df.columns = ['UCB Type']"
   ]
  },
  {
   "cell_type": "code",
   "execution_count": 132,
   "metadata": {},
   "outputs": [
    {
     "data": {
      "text/html": [
       "<div>\n",
       "<style scoped>\n",
       "    .dataframe tbody tr th:only-of-type {\n",
       "        vertical-align: middle;\n",
       "    }\n",
       "\n",
       "    .dataframe tbody tr th {\n",
       "        vertical-align: top;\n",
       "    }\n",
       "\n",
       "    .dataframe thead th {\n",
       "        text-align: right;\n",
       "    }\n",
       "</style>\n",
       "<table border=\"1\" class=\"dataframe\">\n",
       "  <thead>\n",
       "    <tr style=\"text-align: right;\">\n",
       "      <th></th>\n",
       "      <th>UCB Type</th>\n",
       "    </tr>\n",
       "  </thead>\n",
       "  <tbody>\n",
       "    <tr>\n",
       "      <th>MHI - Ongoing Exclusion</th>\n",
       "      <td>28</td>\n",
       "    </tr>\n",
       "    <tr>\n",
       "      <th>MHI - Stable Exclusion</th>\n",
       "      <td>25</td>\n",
       "    </tr>\n",
       "    <tr>\n",
       "      <th>LI - Ongoing Displacement of Low-Income Households</th>\n",
       "      <td>20</td>\n",
       "    </tr>\n",
       "    <tr>\n",
       "      <th>LI - Ongoing Gentrification</th>\n",
       "      <td>17</td>\n",
       "    </tr>\n",
       "    <tr>\n",
       "      <th>MHI - Advanced Gentrification</th>\n",
       "      <td>16</td>\n",
       "    </tr>\n",
       "    <tr>\n",
       "      <th>LI - Not Losing Low-Income Households</th>\n",
       "      <td>15</td>\n",
       "    </tr>\n",
       "    <tr>\n",
       "      <th>LI - At Risk of Gentrification</th>\n",
       "      <td>3</td>\n",
       "    </tr>\n",
       "    <tr>\n",
       "      <th>VHI - Super Gentrification or Exclusion</th>\n",
       "      <td>2</td>\n",
       "    </tr>\n",
       "  </tbody>\n",
       "</table>\n",
       "</div>"
      ],
      "text/plain": [
       "                                                    UCB Type\n",
       "MHI - Ongoing Exclusion                                   28\n",
       "MHI - Stable Exclusion                                    25\n",
       "LI - Ongoing Displacement of Low-Income Households        20\n",
       "LI - Ongoing Gentrification                               17\n",
       "MHI - Advanced Gentrification                             16\n",
       "LI - Not Losing Low-Income Households                     15\n",
       "LI - At Risk of Gentrification                             3\n",
       "VHI - Super Gentrification or Exclusion                    2"
      ]
     },
     "execution_count": 132,
     "metadata": {},
     "output_type": "execute_result"
    }
   ],
   "source": [
    "gentr_ucb_types_df"
   ]
  },
  {
   "cell_type": "code",
   "execution_count": 38,
   "metadata": {},
   "outputs": [
    {
     "data": {
      "image/png": "[encoded data removed]",
      "text/plain": [
       "<Figure size 720x576 with 6 Axes>"
      ]
     },
     "metadata": {
      "needs_background": "light"
     },
     "output_type": "display_data"
    }
   ],
   "source": [
    "fig, axes = plt.subplots(nrows=2, ncols=3, figsize=(10, 8));\n",
    "plt.subplots_adjust(right=1.3);\n",
    "\n",
    "sns.distplot(df0918['d_medinc_%'], ax=axes[0,0], label='All Tracts');\n",
    "sns.distplot(df0918['d_medhomeval_%'], ax=axes[0,1], label='All Tracts');\n",
    "sns.distplot(df0918['d_eduatt_pp'], ax=axes[0,2], label='All Tracts');\n",
    "sns.distplot(df0918['d_white_pp'], ax=axes[1,0], label='All Tracts');\n",
    "sns.distplot(df0918['d_black_pp'], ax=axes[1,1], label='All Tracts');\n",
    "sns.distplot(df0918['d_hispanics_pp'], ax=axes[1,2], label='All Tracts');\n",
    "\n",
    "sns.distplot(kmeans_gent['d_medinc_%'], ax=axes[0,0], label='K-Means Cluster');\n",
    "sns.distplot(kmeans_gent['d_medhomeval_%'], ax=axes[0,1], label='K-Means Cluster');\n",
    "sns.distplot(kmeans_gent['d_eduatt_pp'], ax=axes[0,2], label='K-Means Cluster');\n",
    "sns.distplot(kmeans_gent['d_white_pp'], ax=axes[1,0], label='K-Means Cluster');\n",
    "sns.distplot(kmeans_gent['d_black_pp'], ax=axes[1,1], label='K-Means Cluster');\n",
    "sns.distplot(kmeans_gent['d_hispanics_pp'], ax=axes[1,2], label='K-Means Cluster');\n",
    "\n",
    "axes[0,0].set_ylabel(None);\n",
    "axes[0,1].set_ylabel(None);\n",
    "axes[0,2].set_ylabel(None);\n",
    "axes[1,0].set_ylabel(None);\n",
    "axes[1,1].set_ylabel(None);\n",
    "axes[1,2].set_ylabel(None);\n",
    "\n",
    "axes[0,0].legend();\n",
    "axes[0,1].legend();\n",
    "axes[0,2].legend();\n",
    "axes[1,0].legend();\n",
    "axes[1,1].legend();\n",
    "axes[1,2].legend();\n",
    "\n",
    "fig.suptitle('Distributions of Changes in Independent Variables for Gentrified and Non-Gentrified Tracts', x=0.7, y=0.92, fontsize=14);"
   ]
  },
  {
   "cell_type": "code",
   "execution_count": 118,
   "metadata": {},
   "outputs": [],
   "source": [
    "from scipy.stats import ks_2samp\n",
    "\n",
    "dist_stat = {}\n",
    "\n",
    "for col in kmeans_gent.columns[2:8]:\n",
    "    st, pval = ks_2samp(kmeans_gent[col], df0918[col])\n",
    "    dist_stat[col] = [pval, df0918[col].mean(), kmeans_gent[col].mean(), df0918[col].std(), kmeans_gent[col].std()]"
   ]
  },
  {
   "cell_type": "code",
   "execution_count": 121,
   "metadata": {},
   "outputs": [],
   "source": [
    "dist_stat_df = pd.DataFrame.from_dict(dist_stat, orient='index')\n",
    "dist_stat_df = dist_stat_df.round(3)"
   ]
  },
  {
   "cell_type": "code",
   "execution_count": 127,
   "metadata": {},
   "outputs": [],
   "source": [
    "cols = ['KS p-value', 'All Tracts Mean', 'Gent. Tracts Mean', 'All Tracts St. Dev.', 'Gent. Tracts St. Dev.']\n",
    "dist_stat_df.columns = cols\n",
    "\n",
    "idx = ['Change in Median Income, pct', 'Change in Median Home Value, pct', 'Change in White Pop, pp', \n",
    "       'Change in Black Pop, pp' , 'Change in Hispanic Pop, pp', 'Change in Educational Att, pp']\n",
    "dist_stat_df.index = idx"
   ]
  },
  {
   "cell_type": "code",
   "execution_count": 128,
   "metadata": {},
   "outputs": [
    {
     "data": {
      "text/html": [
       "<div>\n",
       "<style scoped>\n",
       "    .dataframe tbody tr th:only-of-type {\n",
       "        vertical-align: middle;\n",
       "    }\n",
       "\n",
       "    .dataframe tbody tr th {\n",
       "        vertical-align: top;\n",
       "    }\n",
       "\n",
       "    .dataframe thead th {\n",
       "        text-align: right;\n",
       "    }\n",
       "</style>\n",
       "<table border=\"1\" class=\"dataframe\">\n",
       "  <thead>\n",
       "    <tr style=\"text-align: right;\">\n",
       "      <th></th>\n",
       "      <th>KS p-value</th>\n",
       "      <th>All Tracts Mean</th>\n",
       "      <th>Gent. Tracts Mean</th>\n",
       "      <th>All Tracts St. Dev.</th>\n",
       "      <th>Gent. Tracts St. Dev.</th>\n",
       "    </tr>\n",
       "  </thead>\n",
       "  <tbody>\n",
       "    <tr>\n",
       "      <th>Change in Median Income, pct</th>\n",
       "      <td>0.0</td>\n",
       "      <td>21.904</td>\n",
       "      <td>85.560</td>\n",
       "      <td>26.781</td>\n",
       "      <td>39.267</td>\n",
       "    </tr>\n",
       "    <tr>\n",
       "      <th>Change in Median Home Value, pct</th>\n",
       "      <td>0.0</td>\n",
       "      <td>8.046</td>\n",
       "      <td>54.250</td>\n",
       "      <td>47.301</td>\n",
       "      <td>60.731</td>\n",
       "    </tr>\n",
       "    <tr>\n",
       "      <th>Change in White Pop, pp</th>\n",
       "      <td>0.0</td>\n",
       "      <td>-4.923</td>\n",
       "      <td>9.920</td>\n",
       "      <td>8.711</td>\n",
       "      <td>8.413</td>\n",
       "    </tr>\n",
       "    <tr>\n",
       "      <th>Change in Black Pop, pp</th>\n",
       "      <td>0.0</td>\n",
       "      <td>-0.792</td>\n",
       "      <td>-5.983</td>\n",
       "      <td>6.344</td>\n",
       "      <td>9.513</td>\n",
       "    </tr>\n",
       "    <tr>\n",
       "      <th>Change in Hispanic Pop, pp</th>\n",
       "      <td>0.0</td>\n",
       "      <td>2.996</td>\n",
       "      <td>-7.294</td>\n",
       "      <td>7.656</td>\n",
       "      <td>8.833</td>\n",
       "    </tr>\n",
       "    <tr>\n",
       "      <th>Change in Educational Att, pp</th>\n",
       "      <td>0.0</td>\n",
       "      <td>2.018</td>\n",
       "      <td>10.520</td>\n",
       "      <td>4.391</td>\n",
       "      <td>5.301</td>\n",
       "    </tr>\n",
       "  </tbody>\n",
       "</table>\n",
       "</div>"
      ],
      "text/plain": [
       "                                  KS p-value  All Tracts Mean  \\\n",
       "Change in Median Income, pct             0.0           21.904   \n",
       "Change in Median Home Value, pct         0.0            8.046   \n",
       "Change in White Pop, pp                  0.0           -4.923   \n",
       "Change in Black Pop, pp                  0.0           -0.792   \n",
       "Change in Hispanic Pop, pp               0.0            2.996   \n",
       "Change in Educational Att, pp            0.0            2.018   \n",
       "\n",
       "                                  Gent. Tracts Mean  All Tracts St. Dev.  \\\n",
       "Change in Median Income, pct                 85.560               26.781   \n",
       "Change in Median Home Value, pct             54.250               47.301   \n",
       "Change in White Pop, pp                       9.920                8.711   \n",
       "Change in Black Pop, pp                      -5.983                6.344   \n",
       "Change in Hispanic Pop, pp                   -7.294                7.656   \n",
       "Change in Educational Att, pp                10.520                4.391   \n",
       "\n",
       "                                  Gent. Tracts St. Dev.  \n",
       "Change in Median Income, pct                     39.267  \n",
       "Change in Median Home Value, pct                 60.731  \n",
       "Change in White Pop, pp                           8.413  \n",
       "Change in Black Pop, pp                           9.513  \n",
       "Change in Hispanic Pop, pp                        8.833  \n",
       "Change in Educational Att, pp                     5.301  "
      ]
     },
     "execution_count": 128,
     "metadata": {},
     "output_type": "execute_result"
    }
   ],
   "source": [
    "dist_stat_df"
   ]
  },
  {
   "cell_type": "code",
   "execution_count": 129,
   "metadata": {},
   "outputs": [
    {
     "data": {
      "text/plain": [
       "'\\\\begin{tabular}{lrrrrr}\\n\\\\toprule\\n{} &  KS p-value &  All Tracts Mean &  Gent. Tracts Mean &  All Tracts St. Dev. &  Gent. Tracts St. Dev. \\\\\\\\\\n\\\\midrule\\nChange in Median Income, pct     &         0.0 &           21.904 &             85.560 &               26.781 &                 39.267 \\\\\\\\\\nChange in Median Home Value, pct &         0.0 &            8.046 &             54.250 &               47.301 &                 60.731 \\\\\\\\\\nChange in White Pop, pp          &         0.0 &           -4.923 &              9.920 &                8.711 &                  8.413 \\\\\\\\\\nChange in Black Pop, pp          &         0.0 &           -0.792 &             -5.983 &                6.344 &                  9.513 \\\\\\\\\\nChange in Hispanic Pop, pp       &         0.0 &            2.996 &             -7.294 &                7.656 &                  8.833 \\\\\\\\\\nChange in Educational Att, pp    &         0.0 &            2.018 &             10.520 &                4.391 &                  5.301 \\\\\\\\\\n\\\\bottomrule\\n\\\\end{tabular}\\n'"
      ]
     },
     "execution_count": 129,
     "metadata": {},
     "output_type": "execute_result"
    }
   ],
   "source": [
    "dist_stat_df.to_latex()"
   ]
  },
  {
   "cell_type": "code",
   "execution_count": 93,
   "metadata": {},
   "outputs": [
    {
     "data": {
      "text/html": [
       "<div>\n",
       "<style scoped>\n",
       "    .dataframe tbody tr th:only-of-type {\n",
       "        vertical-align: middle;\n",
       "    }\n",
       "\n",
       "    .dataframe tbody tr th {\n",
       "        vertical-align: top;\n",
       "    }\n",
       "\n",
       "    .dataframe thead th {\n",
       "        text-align: right;\n",
       "    }\n",
       "</style>\n",
       "<table border=\"1\" class=\"dataframe\">\n",
       "  <thead>\n",
       "    <tr style=\"text-align: right;\">\n",
       "      <th></th>\n",
       "      <th>name</th>\n",
       "      <th>d_pop_%</th>\n",
       "      <th>d_medinc_%</th>\n",
       "      <th>d_medhomeval_%</th>\n",
       "      <th>d_white_pp</th>\n",
       "      <th>d_black_pp</th>\n",
       "      <th>d_hispanics_pp</th>\n",
       "      <th>d_eduatt_pp</th>\n",
       "      <th>ucb_type</th>\n",
       "    </tr>\n",
       "    <tr>\n",
       "      <th>geoid</th>\n",
       "      <th></th>\n",
       "      <th></th>\n",
       "      <th></th>\n",
       "      <th></th>\n",
       "      <th></th>\n",
       "      <th></th>\n",
       "      <th></th>\n",
       "      <th></th>\n",
       "      <th></th>\n",
       "    </tr>\n",
       "  </thead>\n",
       "  <tbody>\n",
       "    <tr>\n",
       "      <th>34017001900</th>\n",
       "      <td>Census Tract 19, Hudson County, New Jersey</td>\n",
       "      <td>-3.328982</td>\n",
       "      <td>76.930315</td>\n",
       "      <td>32.116788</td>\n",
       "      <td>0.114109</td>\n",
       "      <td>7.929289</td>\n",
       "      <td>-24.030055</td>\n",
       "      <td>17.075603</td>\n",
       "      <td>LI - Ongoing Displacement of Low-Income Househ...</td>\n",
       "    </tr>\n",
       "    <tr>\n",
       "      <th>34017002800</th>\n",
       "      <td>Census Tract 28, Hudson County, New Jersey</td>\n",
       "      <td>7.973231</td>\n",
       "      <td>148.177616</td>\n",
       "      <td>10.379500</td>\n",
       "      <td>9.415334</td>\n",
       "      <td>-7.339239</td>\n",
       "      <td>-6.495796</td>\n",
       "      <td>6.968769</td>\n",
       "      <td>MHI - Ongoing Exclusion</td>\n",
       "    </tr>\n",
       "    <tr>\n",
       "      <th>34017003000</th>\n",
       "      <td>Census Tract 30, Hudson County, New Jersey</td>\n",
       "      <td>-3.612424</td>\n",
       "      <td>70.021623</td>\n",
       "      <td>18.220859</td>\n",
       "      <td>9.528056</td>\n",
       "      <td>-9.569030</td>\n",
       "      <td>5.964340</td>\n",
       "      <td>5.312251</td>\n",
       "      <td>LI - At Risk of Gentrification</td>\n",
       "    </tr>\n",
       "    <tr>\n",
       "      <th>34017003100</th>\n",
       "      <td>Census Tract 31, Hudson County, New Jersey</td>\n",
       "      <td>51.023940</td>\n",
       "      <td>98.021803</td>\n",
       "      <td>-17.455214</td>\n",
       "      <td>1.049043</td>\n",
       "      <td>-2.247343</td>\n",
       "      <td>-12.060648</td>\n",
       "      <td>7.199398</td>\n",
       "      <td>LI - Not Losing Low-Income Households</td>\n",
       "    </tr>\n",
       "    <tr>\n",
       "      <th>34017004700</th>\n",
       "      <td>Census Tract 47, Hudson County, New Jersey</td>\n",
       "      <td>7.096028</td>\n",
       "      <td>54.304107</td>\n",
       "      <td>24.338925</td>\n",
       "      <td>12.060906</td>\n",
       "      <td>-7.292188</td>\n",
       "      <td>-12.258815</td>\n",
       "      <td>6.799698</td>\n",
       "      <td>LI - At Risk of Gentrification</td>\n",
       "    </tr>\n",
       "  </tbody>\n",
       "</table>\n",
       "</div>"
      ],
      "text/plain": [
       "                                                   name    d_pop_%  \\\n",
       "geoid                                                                \n",
       "34017001900  Census Tract 19, Hudson County, New Jersey  -3.328982   \n",
       "34017002800  Census Tract 28, Hudson County, New Jersey   7.973231   \n",
       "34017003000  Census Tract 30, Hudson County, New Jersey  -3.612424   \n",
       "34017003100  Census Tract 31, Hudson County, New Jersey  51.023940   \n",
       "34017004700  Census Tract 47, Hudson County, New Jersey   7.096028   \n",
       "\n",
       "             d_medinc_%  d_medhomeval_%  d_white_pp  d_black_pp  \\\n",
       "geoid                                                             \n",
       "34017001900   76.930315       32.116788    0.114109    7.929289   \n",
       "34017002800  148.177616       10.379500    9.415334   -7.339239   \n",
       "34017003000   70.021623       18.220859    9.528056   -9.569030   \n",
       "34017003100   98.021803      -17.455214    1.049043   -2.247343   \n",
       "34017004700   54.304107       24.338925   12.060906   -7.292188   \n",
       "\n",
       "             d_hispanics_pp  d_eduatt_pp  \\\n",
       "geoid                                      \n",
       "34017001900      -24.030055    17.075603   \n",
       "34017002800       -6.495796     6.968769   \n",
       "34017003000        5.964340     5.312251   \n",
       "34017003100      -12.060648     7.199398   \n",
       "34017004700      -12.258815     6.799698   \n",
       "\n",
       "                                                      ucb_type  \n",
       "geoid                                                           \n",
       "34017001900  LI - Ongoing Displacement of Low-Income Househ...  \n",
       "34017002800                            MHI - Ongoing Exclusion  \n",
       "34017003000                     LI - At Risk of Gentrification  \n",
       "34017003100              LI - Not Losing Low-Income Households  \n",
       "34017004700                     LI - At Risk of Gentrification  "
      ]
     },
     "execution_count": 93,
     "metadata": {},
     "output_type": "execute_result"
    }
   ],
   "source": [
    "kmeans_gent.head()"
   ]
  },
  {
   "cell_type": "code",
   "execution_count": null,
   "metadata": {},
   "outputs": [],
   "source": []
  },
  {
   "cell_type": "code",
   "execution_count": 71,
   "metadata": {},
   "outputs": [],
   "source": [
    "gent_overlap = [True if geoid in gent_bf.index else False for geoid in kmeans_gent.index]\n",
    "gent_overlap_df = kmeans_gent[gent_overlap]"
   ]
  },
  {
   "cell_type": "code",
   "execution_count": 73,
   "metadata": {},
   "outputs": [
    {
     "data": {
      "text/plain": [
       "{'LI - Ongoing Displacement of Low-Income Households': 6,\n",
       " 'LI - At Risk of Gentrification': 3,\n",
       " 'MHI - Stable Exclusion': 3,\n",
       " 'LI - Ongoing Gentrification': 2,\n",
       " 'MHI - Ongoing Exclusion': 1,\n",
       " 'LI - Not Losing Low-Income Households': 1,\n",
       " 'MHI - Advanced Gentrification': 1}"
      ]
     },
     "execution_count": 73,
     "metadata": {},
     "output_type": "execute_result"
    }
   ],
   "source": [
    "gent_overlap_df.ucb_type.value_counts().to_dict()"
   ]
  },
  {
   "cell_type": "code",
   "execution_count": 845,
   "metadata": {},
   "outputs": [],
   "source": [
    "kmeans_gent.to_csv('kmeans_gentrified.csv');"
   ]
  },
  {
   "cell_type": "markdown",
   "metadata": {},
   "source": [
    "## Calculate cosine similarity"
   ]
  },
  {
   "cell_type": "code",
   "execution_count": 625,
   "metadata": {},
   "outputs": [],
   "source": [
    "from sklearn.metrics.pairwise import cosine_similarity"
   ]
  },
  {
   "cell_type": "code",
   "execution_count": 646,
   "metadata": {},
   "outputs": [],
   "source": [
    "cos = cosine_similarity(Xt)\n",
    "cos = np.tril(cos, -1)"
   ]
  },
  {
   "cell_type": "code",
   "execution_count": 647,
   "metadata": {},
   "outputs": [
    {
     "data": {
      "text/plain": [
       "(3825, 3825)"
      ]
     },
     "execution_count": 647,
     "metadata": {},
     "output_type": "execute_result"
    }
   ],
   "source": [
    "cos.shape"
   ]
  },
  {
   "cell_type": "code",
   "execution_count": 649,
   "metadata": {},
   "outputs": [],
   "source": [
    "cos = pd.DataFrame(cos, columns=df0918.index, index=df0918.index)\n",
    "cos = cos.rename_axis(None).rename_axis(None, axis=1)\n",
    "cos = cos.stack().reset_index()\n",
    "cos.columns = ['geoid_1', 'geoid_2', 'cos_sim']"
   ]
  },
  {
   "cell_type": "code",
   "execution_count": 651,
   "metadata": {},
   "outputs": [],
   "source": [
    "cos = cos.sort_values(by='cos_sim', ascending=False)"
   ]
  },
  {
   "cell_type": "code",
   "execution_count": 657,
   "metadata": {},
   "outputs": [
    {
     "data": {
      "text/html": [
       "<div>\n",
       "<style scoped>\n",
       "    .dataframe tbody tr th:only-of-type {\n",
       "        vertical-align: middle;\n",
       "    }\n",
       "\n",
       "    .dataframe tbody tr th {\n",
       "        vertical-align: top;\n",
       "    }\n",
       "\n",
       "    .dataframe thead th {\n",
       "        text-align: right;\n",
       "    }\n",
       "</style>\n",
       "<table border=\"1\" class=\"dataframe\">\n",
       "  <thead>\n",
       "    <tr style=\"text-align: right;\">\n",
       "      <th></th>\n",
       "      <th>geoid_1</th>\n",
       "      <th>geoid_2</th>\n",
       "      <th>cos_sim</th>\n",
       "    </tr>\n",
       "  </thead>\n",
       "  <tbody>\n",
       "    <tr>\n",
       "      <th>7945931</th>\n",
       "      <td>36047116600</td>\n",
       "      <td>36005042800</td>\n",
       "      <td>0.998762</td>\n",
       "    </tr>\n",
       "    <tr>\n",
       "      <th>13813139</th>\n",
       "      <td>36103190707</td>\n",
       "      <td>34035052100</td>\n",
       "      <td>0.998525</td>\n",
       "    </tr>\n",
       "    <tr>\n",
       "      <th>13326412</th>\n",
       "      <td>36103146703</td>\n",
       "      <td>34003048100</td>\n",
       "      <td>0.998469</td>\n",
       "    </tr>\n",
       "    <tr>\n",
       "      <th>11272998</th>\n",
       "      <td>36081055900</td>\n",
       "      <td>34025807400</td>\n",
       "      <td>0.998398</td>\n",
       "    </tr>\n",
       "    <tr>\n",
       "      <th>4674198</th>\n",
       "      <td>34039039400</td>\n",
       "      <td>34003021600</td>\n",
       "      <td>0.998322</td>\n",
       "    </tr>\n",
       "    <tr>\n",
       "      <th>...</th>\n",
       "      <td>...</td>\n",
       "      <td>...</td>\n",
       "      <td>...</td>\n",
       "    </tr>\n",
       "    <tr>\n",
       "      <th>11863167</th>\n",
       "      <td>36081104700</td>\n",
       "      <td>36047053400</td>\n",
       "      <td>0.967919</td>\n",
       "    </tr>\n",
       "    <tr>\n",
       "      <th>12979052</th>\n",
       "      <td>36103123202</td>\n",
       "      <td>34027043500</td>\n",
       "      <td>0.967919</td>\n",
       "    </tr>\n",
       "    <tr>\n",
       "      <th>13006058</th>\n",
       "      <td>36103123701</td>\n",
       "      <td>34035051600</td>\n",
       "      <td>0.967917</td>\n",
       "    </tr>\n",
       "    <tr>\n",
       "      <th>9678827</th>\n",
       "      <td>36061022200</td>\n",
       "      <td>36047020100</td>\n",
       "      <td>0.967914</td>\n",
       "    </tr>\n",
       "    <tr>\n",
       "      <th>12747762</th>\n",
       "      <td>36103110801</td>\n",
       "      <td>36081043900</td>\n",
       "      <td>0.967908</td>\n",
       "    </tr>\n",
       "  </tbody>\n",
       "</table>\n",
       "<p>5000 rows × 3 columns</p>\n",
       "</div>"
      ],
      "text/plain": [
       "              geoid_1      geoid_2   cos_sim\n",
       "7945931   36047116600  36005042800  0.998762\n",
       "13813139  36103190707  34035052100  0.998525\n",
       "13326412  36103146703  34003048100  0.998469\n",
       "11272998  36081055900  34025807400  0.998398\n",
       "4674198   34039039400  34003021600  0.998322\n",
       "...               ...          ...       ...\n",
       "11863167  36081104700  36047053400  0.967919\n",
       "12979052  36103123202  34027043500  0.967919\n",
       "13006058  36103123701  34035051600  0.967917\n",
       "9678827   36061022200  36047020100  0.967914\n",
       "12747762  36103110801  36081043900  0.967908\n",
       "\n",
       "[5000 rows x 3 columns]"
      ]
     },
     "execution_count": 657,
     "metadata": {},
     "output_type": "execute_result"
    }
   ],
   "source": [
    "cos.iloc[:5000, :]"
   ]
  },
  {
   "cell_type": "markdown",
   "metadata": {},
   "source": [
    "# Add Crime Data (Open Crime Database)"
   ]
  },
  {
   "cell_type": "code",
   "execution_count": 187,
   "metadata": {},
   "outputs": [],
   "source": [
    "counties = pd.read_csv('counties.csv')"
   ]
  },
  {
   "cell_type": "code",
   "execution_count": 188,
   "metadata": {},
   "outputs": [],
   "source": [
    "crime2009 = pd.read_csv('crime_2009.csv', usecols=['city_name', 'census_block', 'offense_group'])\n",
    "crime2018 = pd.read_csv('crime_2018.csv', usecols=['city_name', 'census_block', 'offense_group'])"
   ]
  },
  {
   "cell_type": "code",
   "execution_count": 189,
   "metadata": {},
   "outputs": [
    {
     "data": {
      "text/plain": [
       "((17107, 3), (18281, 3))"
      ]
     },
     "execution_count": 189,
     "metadata": {},
     "output_type": "execute_result"
    }
   ],
   "source": [
    "crime2009.shape, crime2018.shape"
   ]
  },
  {
   "cell_type": "code",
   "execution_count": 190,
   "metadata": {},
   "outputs": [],
   "source": [
    "crime2009 = crime2009[crime2009['city_name'] == 'New York']\n",
    "crime2018 = crime2018[crime2018['city_name'] == 'New York']"
   ]
  },
  {
   "cell_type": "code",
   "execution_count": 191,
   "metadata": {},
   "outputs": [
    {
     "data": {
      "text/plain": [
       "((5053, 3), (4581, 3))"
      ]
     },
     "execution_count": 191,
     "metadata": {},
     "output_type": "execute_result"
    }
   ],
   "source": [
    "crime2009.shape, crime2018.shape"
   ]
  },
  {
   "cell_type": "code",
   "execution_count": 192,
   "metadata": {},
   "outputs": [],
   "source": [
    "crime2009['geoid'] = crime2009['census_block'].apply(lambda x: str(x)[:-4])\n",
    "crime2018['geoid'] = crime2018['census_block'].apply(lambda x: str(x)[:-4])"
   ]
  },
  {
   "cell_type": "markdown",
   "metadata": {},
   "source": [
    "Find unique census tract IDs that correspond to the original census data set."
   ]
  },
  {
   "cell_type": "code",
   "execution_count": 193,
   "metadata": {},
   "outputs": [],
   "source": [
    "str_idx_2009 = [str(idx) for idx in df2009.index]\n",
    "matching_geoids_2009 = [geoid for geoid in crime2009['geoid'].unique() if geoid in str_idx_2009]"
   ]
  },
  {
   "cell_type": "code",
   "execution_count": 194,
   "metadata": {},
   "outputs": [],
   "source": [
    "str_idx_2018 = [str(idx) for idx in df2018.index]\n",
    "matching_geoids_2018 = [geoid for geoid in crime2018['geoid'].unique() if geoid in str_idx_2018]"
   ]
  },
  {
   "cell_type": "code",
   "execution_count": 195,
   "metadata": {},
   "outputs": [],
   "source": [
    "matched_2009 = [True if (geoid in str_idx_2009) and \n",
    "                (geoid in str_idx_2018) and \n",
    "                (geoid in list(crime2018['geoid'])) \n",
    "                else False \n",
    "                for geoid in crime2009['geoid']]\n",
    "\n",
    "matched_2018 = [True if (geoid in str_idx_2009) and \n",
    "                (geoid in str_idx_2018) and \n",
    "                (geoid in list(crime2009['geoid'])) else False \n",
    "                for geoid in crime2018['geoid']]"
   ]
  },
  {
   "cell_type": "code",
   "execution_count": 196,
   "metadata": {},
   "outputs": [],
   "source": [
    "crime2009 = crime2009[matched_2009]\n",
    "crime2018 = crime2018[matched_2018]"
   ]
  },
  {
   "cell_type": "code",
   "execution_count": 197,
   "metadata": {},
   "outputs": [
    {
     "data": {
      "text/plain": [
       "((3053, 4), (2912, 4))"
      ]
     },
     "execution_count": 197,
     "metadata": {},
     "output_type": "execute_result"
    }
   ],
   "source": [
    "crime2009.shape, crime2018.shape"
   ]
  },
  {
   "cell_type": "code",
   "execution_count": 198,
   "metadata": {},
   "outputs": [],
   "source": [
    "crime2009 = crime2009.drop(['census_block'], axis=1)\n",
    "crime2018 = crime2018.drop(['census_block'], axis=1)"
   ]
  },
  {
   "cell_type": "code",
   "execution_count": 199,
   "metadata": {},
   "outputs": [],
   "source": [
    "num_crimes_by_tract_2009 = crime2009.groupby('geoid')['offense_group'].count()\n",
    "num_crimes_by_tract_2018 = crime2018.groupby('geoid')['offense_group'].count()"
   ]
  },
  {
   "cell_type": "code",
   "execution_count": 200,
   "metadata": {},
   "outputs": [
    {
     "data": {
      "text/plain": [
       "((981,), (981,))"
      ]
     },
     "execution_count": 200,
     "metadata": {},
     "output_type": "execute_result"
    }
   ],
   "source": [
    "num_crimes_by_tract_2009.shape, num_crimes_by_tract_2018.shape"
   ]
  },
  {
   "cell_type": "code",
   "execution_count": 201,
   "metadata": {},
   "outputs": [],
   "source": [
    "num_type_crimes_by_tract_2009 = crime2009.groupby(['geoid', 'offense_group']).count()\n",
    "num_type_crimes_by_tract_2018 = crime2018.groupby(['geoid', 'offense_group']).count()"
   ]
  },
  {
   "cell_type": "code",
   "execution_count": 240,
   "metadata": {},
   "outputs": [
    {
     "data": {
      "text/html": [
       "<div>\n",
       "<style scoped>\n",
       "    .dataframe tbody tr th:only-of-type {\n",
       "        vertical-align: middle;\n",
       "    }\n",
       "\n",
       "    .dataframe tbody tr th {\n",
       "        vertical-align: top;\n",
       "    }\n",
       "\n",
       "    .dataframe thead th {\n",
       "        text-align: right;\n",
       "    }\n",
       "</style>\n",
       "<table border=\"1\" class=\"dataframe\">\n",
       "  <thead>\n",
       "    <tr style=\"text-align: right;\">\n",
       "      <th></th>\n",
       "      <th>city_name</th>\n",
       "      <th>geoid</th>\n",
       "    </tr>\n",
       "    <tr>\n",
       "      <th>offense_group</th>\n",
       "      <th></th>\n",
       "      <th></th>\n",
       "    </tr>\n",
       "  </thead>\n",
       "  <tbody>\n",
       "    <tr>\n",
       "      <th>all other offenses</th>\n",
       "      <td>694</td>\n",
       "      <td>694</td>\n",
       "    </tr>\n",
       "    <tr>\n",
       "      <th>arson</th>\n",
       "      <td>15</td>\n",
       "      <td>15</td>\n",
       "    </tr>\n",
       "    <tr>\n",
       "      <th>assault offenses</th>\n",
       "      <td>477</td>\n",
       "      <td>477</td>\n",
       "    </tr>\n",
       "    <tr>\n",
       "      <th>bad checks (except counterfeit checks or forged checks)</th>\n",
       "      <td>4</td>\n",
       "      <td>4</td>\n",
       "    </tr>\n",
       "    <tr>\n",
       "      <th>bribery</th>\n",
       "      <td>2</td>\n",
       "      <td>2</td>\n",
       "    </tr>\n",
       "    <tr>\n",
       "      <th>burglary/breaking &amp; entering</th>\n",
       "      <td>80</td>\n",
       "      <td>80</td>\n",
       "    </tr>\n",
       "    <tr>\n",
       "      <th>counterfeiting/forgery</th>\n",
       "      <td>45</td>\n",
       "      <td>45</td>\n",
       "    </tr>\n",
       "    <tr>\n",
       "      <th>destruction/damage/vandalism of property (except arson)</th>\n",
       "      <td>287</td>\n",
       "      <td>287</td>\n",
       "    </tr>\n",
       "    <tr>\n",
       "      <th>disorderly conduct</th>\n",
       "      <td>5</td>\n",
       "      <td>5</td>\n",
       "    </tr>\n",
       "    <tr>\n",
       "      <th>driving under the influence</th>\n",
       "      <td>35</td>\n",
       "      <td>35</td>\n",
       "    </tr>\n",
       "    <tr>\n",
       "      <th>drug/narcotic offenses</th>\n",
       "      <td>90</td>\n",
       "      <td>90</td>\n",
       "    </tr>\n",
       "    <tr>\n",
       "      <th>embezzlement</th>\n",
       "      <td>13</td>\n",
       "      <td>13</td>\n",
       "    </tr>\n",
       "    <tr>\n",
       "      <th>extortion/blackmail</th>\n",
       "      <td>11</td>\n",
       "      <td>11</td>\n",
       "    </tr>\n",
       "    <tr>\n",
       "      <th>fraud offenses (except counterfeiting/forgery and bad checks)</th>\n",
       "      <td>134</td>\n",
       "      <td>134</td>\n",
       "    </tr>\n",
       "    <tr>\n",
       "      <th>gambling offenses</th>\n",
       "      <td>1</td>\n",
       "      <td>1</td>\n",
       "    </tr>\n",
       "    <tr>\n",
       "      <th>homicide offenses</th>\n",
       "      <td>2</td>\n",
       "      <td>2</td>\n",
       "    </tr>\n",
       "    <tr>\n",
       "      <th>kidnapping/abduction</th>\n",
       "      <td>2</td>\n",
       "      <td>2</td>\n",
       "    </tr>\n",
       "    <tr>\n",
       "      <th>larceny/theft offenses</th>\n",
       "      <td>745</td>\n",
       "      <td>745</td>\n",
       "    </tr>\n",
       "    <tr>\n",
       "      <th>motor vehicle theft</th>\n",
       "      <td>54</td>\n",
       "      <td>54</td>\n",
       "    </tr>\n",
       "    <tr>\n",
       "      <th>prostitution offenses</th>\n",
       "      <td>1</td>\n",
       "      <td>1</td>\n",
       "    </tr>\n",
       "    <tr>\n",
       "      <th>robbery</th>\n",
       "      <td>90</td>\n",
       "      <td>90</td>\n",
       "    </tr>\n",
       "    <tr>\n",
       "      <th>sex offenses</th>\n",
       "      <td>44</td>\n",
       "      <td>44</td>\n",
       "    </tr>\n",
       "    <tr>\n",
       "      <th>stolen property offenses</th>\n",
       "      <td>10</td>\n",
       "      <td>10</td>\n",
       "    </tr>\n",
       "    <tr>\n",
       "      <th>trespass of real property</th>\n",
       "      <td>27</td>\n",
       "      <td>27</td>\n",
       "    </tr>\n",
       "    <tr>\n",
       "      <th>weapon law violations</th>\n",
       "      <td>44</td>\n",
       "      <td>44</td>\n",
       "    </tr>\n",
       "  </tbody>\n",
       "</table>\n",
       "</div>"
      ],
      "text/plain": [
       "                                                    city_name  geoid\n",
       "offense_group                                                       \n",
       "all other offenses                                        694    694\n",
       "arson                                                      15     15\n",
       "assault offenses                                          477    477\n",
       "bad checks (except counterfeit checks or forged...          4      4\n",
       "bribery                                                     2      2\n",
       "burglary/breaking & entering                               80     80\n",
       "counterfeiting/forgery                                     45     45\n",
       "destruction/damage/vandalism of property (excep...        287    287\n",
       "disorderly conduct                                          5      5\n",
       "driving under the influence                                35     35\n",
       "drug/narcotic offenses                                     90     90\n",
       "embezzlement                                               13     13\n",
       "extortion/blackmail                                        11     11\n",
       "fraud offenses (except counterfeiting/forgery a...        134    134\n",
       "gambling offenses                                           1      1\n",
       "homicide offenses                                           2      2\n",
       "kidnapping/abduction                                        2      2\n",
       "larceny/theft offenses                                    745    745\n",
       "motor vehicle theft                                        54     54\n",
       "prostitution offenses                                       1      1\n",
       "robbery                                                    90     90\n",
       "sex offenses                                               44     44\n",
       "stolen property offenses                                   10     10\n",
       "trespass of real property                                  27     27\n",
       "weapon law violations                                      44     44"
      ]
     },
     "execution_count": 240,
     "metadata": {},
     "output_type": "execute_result"
    }
   ],
   "source": [
    "crime2018.groupby(['offense_group']).count()"
   ]
  },
  {
   "cell_type": "code",
   "execution_count": 205,
   "metadata": {},
   "outputs": [
    {
     "data": {
      "text/html": [
       "<div>\n",
       "<style scoped>\n",
       "    .dataframe tbody tr th:only-of-type {\n",
       "        vertical-align: middle;\n",
       "    }\n",
       "\n",
       "    .dataframe tbody tr th {\n",
       "        vertical-align: top;\n",
       "    }\n",
       "\n",
       "    .dataframe thead th {\n",
       "        text-align: right;\n",
       "    }\n",
       "</style>\n",
       "<table border=\"1\" class=\"dataframe\">\n",
       "  <thead>\n",
       "    <tr style=\"text-align: right;\">\n",
       "      <th></th>\n",
       "      <th></th>\n",
       "      <th>city_name</th>\n",
       "    </tr>\n",
       "    <tr>\n",
       "      <th>geoid</th>\n",
       "      <th>offense_group</th>\n",
       "      <th></th>\n",
       "    </tr>\n",
       "  </thead>\n",
       "  <tbody>\n",
       "    <tr>\n",
       "      <th rowspan=\"3\" valign=\"top\">36005000400</th>\n",
       "      <th>assault offenses</th>\n",
       "      <td>1</td>\n",
       "    </tr>\n",
       "    <tr>\n",
       "      <th>fraud offenses (except counterfeiting/forgery and bad checks)</th>\n",
       "      <td>1</td>\n",
       "    </tr>\n",
       "    <tr>\n",
       "      <th>larceny/theft offenses</th>\n",
       "      <td>1</td>\n",
       "    </tr>\n",
       "    <tr>\n",
       "      <th rowspan=\"2\" valign=\"top\">36005001600</th>\n",
       "      <th>all other offenses</th>\n",
       "      <td>1</td>\n",
       "    </tr>\n",
       "    <tr>\n",
       "      <th>larceny/theft offenses</th>\n",
       "      <td>1</td>\n",
       "    </tr>\n",
       "    <tr>\n",
       "      <th>...</th>\n",
       "      <th>...</th>\n",
       "      <td>...</td>\n",
       "    </tr>\n",
       "    <tr>\n",
       "      <th rowspan=\"2\" valign=\"top\">36085031902</th>\n",
       "      <th>motor vehicle theft</th>\n",
       "      <td>1</td>\n",
       "    </tr>\n",
       "    <tr>\n",
       "      <th>weapon law violations</th>\n",
       "      <td>1</td>\n",
       "    </tr>\n",
       "    <tr>\n",
       "      <th rowspan=\"3\" valign=\"top\">36085032300</th>\n",
       "      <th>all other offenses</th>\n",
       "      <td>1</td>\n",
       "    </tr>\n",
       "    <tr>\n",
       "      <th>assault offenses</th>\n",
       "      <td>2</td>\n",
       "    </tr>\n",
       "    <tr>\n",
       "      <th>larceny/theft offenses</th>\n",
       "      <td>2</td>\n",
       "    </tr>\n",
       "  </tbody>\n",
       "</table>\n",
       "<p>2194 rows × 1 columns</p>\n",
       "</div>"
      ],
      "text/plain": [
       "                                                                city_name\n",
       "geoid       offense_group                                                \n",
       "36005000400 assault offenses                                            1\n",
       "            fraud offenses (except counterfeiting/forgery a...          1\n",
       "            larceny/theft offenses                                      1\n",
       "36005001600 all other offenses                                          1\n",
       "            larceny/theft offenses                                      1\n",
       "...                                                                   ...\n",
       "36085031902 motor vehicle theft                                         1\n",
       "            weapon law violations                                       1\n",
       "36085032300 all other offenses                                          1\n",
       "            assault offenses                                            2\n",
       "            larceny/theft offenses                                      2\n",
       "\n",
       "[2194 rows x 1 columns]"
      ]
     },
     "execution_count": 205,
     "metadata": {},
     "output_type": "execute_result"
    }
   ],
   "source": [
    "num_type_crimes_by_tract_2018['offenc']"
   ]
  },
  {
   "cell_type": "code",
   "execution_count": 202,
   "metadata": {},
   "outputs": [
    {
     "data": {
      "text/plain": [
       "((2298, 1), (2194, 1))"
      ]
     },
     "execution_count": 202,
     "metadata": {},
     "output_type": "execute_result"
    }
   ],
   "source": [
    "num_type_crimes_by_tract_2009.shape, num_type_crimes_by_tract_2018.shape"
   ]
  },
  {
   "cell_type": "code",
   "execution_count": 137,
   "metadata": {},
   "outputs": [],
   "source": [
    "crime2009.to_csv('ny_crime_2009.csv')\n",
    "crime2018.to_csv('ny_crime_2018.csv')"
   ]
  },
  {
   "cell_type": "code",
   "execution_count": 203,
   "metadata": {},
   "outputs": [],
   "source": [
    "num_crimes_by_tract_2009.sort_index();\n",
    "num_crimes_by_tract_2018.sort_index();"
   ]
  },
  {
   "cell_type": "code",
   "execution_count": 171,
   "metadata": {},
   "outputs": [],
   "source": [
    "num_crimes_by_tract_total = pd.concat([num_crimes_by_tract_2009, num_crimes_by_tract_2018], axis=1)\n",
    "num_crimes_by_tract_total.columns = ['2009', '2018']"
   ]
  },
  {
   "cell_type": "code",
   "execution_count": 172,
   "metadata": {},
   "outputs": [
    {
     "data": {
      "text/plain": [
       "(981, 2)"
      ]
     },
     "execution_count": 172,
     "metadata": {},
     "output_type": "execute_result"
    }
   ],
   "source": [
    "num_crimes_by_tract_total.shape"
   ]
  },
  {
   "cell_type": "code",
   "execution_count": 173,
   "metadata": {},
   "outputs": [],
   "source": [
    "num_crimes_by_tract_total['pct_change'] = 100 * (num_crimes_by_tract_total['2018'] / num_crimes_by_tract_total['2009'] - 1)"
   ]
  },
  {
   "cell_type": "code",
   "execution_count": 174,
   "metadata": {},
   "outputs": [
    {
     "data": {
      "text/html": [
       "<div>\n",
       "<style scoped>\n",
       "    .dataframe tbody tr th:only-of-type {\n",
       "        vertical-align: middle;\n",
       "    }\n",
       "\n",
       "    .dataframe tbody tr th {\n",
       "        vertical-align: top;\n",
       "    }\n",
       "\n",
       "    .dataframe thead th {\n",
       "        text-align: right;\n",
       "    }\n",
       "</style>\n",
       "<table border=\"1\" class=\"dataframe\">\n",
       "  <thead>\n",
       "    <tr style=\"text-align: right;\">\n",
       "      <th></th>\n",
       "      <th>2009</th>\n",
       "      <th>2018</th>\n",
       "      <th>pct_change</th>\n",
       "    </tr>\n",
       "    <tr>\n",
       "      <th>geoid</th>\n",
       "      <th></th>\n",
       "      <th></th>\n",
       "      <th></th>\n",
       "    </tr>\n",
       "  </thead>\n",
       "  <tbody>\n",
       "    <tr>\n",
       "      <th>36047025100</th>\n",
       "      <td>10</td>\n",
       "      <td>1</td>\n",
       "      <td>-90.000000</td>\n",
       "    </tr>\n",
       "    <tr>\n",
       "      <th>36061023300</th>\n",
       "      <td>8</td>\n",
       "      <td>1</td>\n",
       "      <td>-87.500000</td>\n",
       "    </tr>\n",
       "    <tr>\n",
       "      <th>36005035800</th>\n",
       "      <td>8</td>\n",
       "      <td>1</td>\n",
       "      <td>-87.500000</td>\n",
       "    </tr>\n",
       "    <tr>\n",
       "      <th>36047088600</th>\n",
       "      <td>7</td>\n",
       "      <td>1</td>\n",
       "      <td>-85.714286</td>\n",
       "    </tr>\n",
       "    <tr>\n",
       "      <th>36047031701</th>\n",
       "      <td>7</td>\n",
       "      <td>1</td>\n",
       "      <td>-85.714286</td>\n",
       "    </tr>\n",
       "    <tr>\n",
       "      <th>...</th>\n",
       "      <td>...</td>\n",
       "      <td>...</td>\n",
       "      <td>...</td>\n",
       "    </tr>\n",
       "    <tr>\n",
       "      <th>36061008900</th>\n",
       "      <td>1</td>\n",
       "      <td>6</td>\n",
       "      <td>500.000000</td>\n",
       "    </tr>\n",
       "    <tr>\n",
       "      <th>36005046202</th>\n",
       "      <td>1</td>\n",
       "      <td>6</td>\n",
       "      <td>500.000000</td>\n",
       "    </tr>\n",
       "    <tr>\n",
       "      <th>36047008400</th>\n",
       "      <td>1</td>\n",
       "      <td>6</td>\n",
       "      <td>500.000000</td>\n",
       "    </tr>\n",
       "    <tr>\n",
       "      <th>36047029800</th>\n",
       "      <td>1</td>\n",
       "      <td>7</td>\n",
       "      <td>600.000000</td>\n",
       "    </tr>\n",
       "    <tr>\n",
       "      <th>36047032600</th>\n",
       "      <td>1</td>\n",
       "      <td>9</td>\n",
       "      <td>800.000000</td>\n",
       "    </tr>\n",
       "  </tbody>\n",
       "</table>\n",
       "<p>981 rows × 3 columns</p>\n",
       "</div>"
      ],
      "text/plain": [
       "             2009  2018  pct_change\n",
       "geoid                              \n",
       "36047025100    10     1  -90.000000\n",
       "36061023300     8     1  -87.500000\n",
       "36005035800     8     1  -87.500000\n",
       "36047088600     7     1  -85.714286\n",
       "36047031701     7     1  -85.714286\n",
       "...           ...   ...         ...\n",
       "36061008900     1     6  500.000000\n",
       "36005046202     1     6  500.000000\n",
       "36047008400     1     6  500.000000\n",
       "36047029800     1     7  600.000000\n",
       "36047032600     1     9  800.000000\n",
       "\n",
       "[981 rows x 3 columns]"
      ]
     },
     "execution_count": 174,
     "metadata": {},
     "output_type": "execute_result"
    }
   ],
   "source": [
    "num_crimes_by_tract_total.sort_values(by='pct_change')"
   ]
  },
  {
   "cell_type": "code",
   "execution_count": 175,
   "metadata": {},
   "outputs": [
    {
     "data": {
      "text/plain": [
       "-4.618408123157547"
      ]
     },
     "execution_count": 175,
     "metadata": {},
     "output_type": "execute_result"
    }
   ],
   "source": [
    "100 * (sum(num_crimes_by_tract_total['2018']) / sum(num_crimes_by_tract_total['2009']) - 1)"
   ]
  },
  {
   "cell_type": "markdown",
   "metadata": {},
   "source": [
    "# Check if there has been a decrease in crime in gentrified tracts"
   ]
  },
  {
   "cell_type": "code",
   "execution_count": 385,
   "metadata": {},
   "outputs": [],
   "source": [
    "gentrified = pd.read_csv('data_gentrified_09_18.csv')\n",
    "didnt_gentrify = pd.read_csv('data_eligible_not_09_18.csv')"
   ]
  },
  {
   "cell_type": "code",
   "execution_count": 387,
   "metadata": {},
   "outputs": [
    {
     "data": {
      "text/plain": [
       "((66, 52), (623, 53))"
      ]
     },
     "execution_count": 387,
     "metadata": {},
     "output_type": "execute_result"
    }
   ],
   "source": [
    "gentrified.shape, didnt_gentrify.shape"
   ]
  },
  {
   "cell_type": "code",
   "execution_count": 388,
   "metadata": {},
   "outputs": [],
   "source": [
    "ny_gentrified = gentrified[gentrified['state_x'] == 36]\n",
    "ny_didnt_gentrify = didnt_gentrify[didnt_gentrify['state_x'] == 36]"
   ]
  },
  {
   "cell_type": "code",
   "execution_count": 389,
   "metadata": {},
   "outputs": [
    {
     "data": {
      "text/plain": [
       "((58, 52), (277, 53))"
      ]
     },
     "execution_count": 389,
     "metadata": {},
     "output_type": "execute_result"
    }
   ],
   "source": [
    "ny_gentrified.shape, ny_didnt_gentrify.shape"
   ]
  },
  {
   "cell_type": "code",
   "execution_count": 392,
   "metadata": {},
   "outputs": [],
   "source": [
    "ny_gentrified_geoid = [str(geoid) for geoid in list(ny_gentrified['geoid'])]\n",
    "ny_didnt_gentrify_geoid = [str(geoid) for geoid in list(ny_didnt_gentrify['geoid'])]"
   ]
  },
  {
   "cell_type": "code",
   "execution_count": 345,
   "metadata": {},
   "outputs": [],
   "source": [
    "ny_gentrified_geoid_match_2009 = [True if geoid in list(num_crimes_by_tract_total.index) else False for geoid in ny_gentrified_geoid]"
   ]
  },
  {
   "cell_type": "code",
   "execution_count": 346,
   "metadata": {},
   "outputs": [
    {
     "data": {
      "text/plain": [
       "42"
      ]
     },
     "execution_count": 346,
     "metadata": {},
     "output_type": "execute_result"
    }
   ],
   "source": [
    "sum(ny_gentrified_geoid_match_2009)"
   ]
  },
  {
   "cell_type": "code",
   "execution_count": 393,
   "metadata": {},
   "outputs": [],
   "source": [
    "ny_gentrified_geoid_match_2018 = [True if geoid in list(num_crimes_by_tract_total.index) else False for geoid in ny_gentrified_geoid]\n",
    "ny_didnt_gentrify_geoid_match_2018 = [True if geoid in list(num_crimes_by_tract_total.index) else False for geoid in ny_didnt_gentrify_geoid]"
   ]
  },
  {
   "cell_type": "code",
   "execution_count": 394,
   "metadata": {},
   "outputs": [
    {
     "data": {
      "text/plain": [
       "(42, 168)"
      ]
     },
     "execution_count": 394,
     "metadata": {},
     "output_type": "execute_result"
    }
   ],
   "source": [
    "sum(ny_gentrified_geoid_match_2018), sum(ny_didnt_gentrify_geoid_match_2018)"
   ]
  },
  {
   "cell_type": "code",
   "execution_count": 395,
   "metadata": {},
   "outputs": [],
   "source": [
    "ny_gentrified = ny_gentrified[ny_gentrified_geoid_match_2018]\n",
    "ny_didnt_gentrify = ny_didnt_gentrify[ny_didnt_gentrify_geoid_match_2018] "
   ]
  },
  {
   "cell_type": "code",
   "execution_count": 207,
   "metadata": {},
   "outputs": [
    {
     "ename": "NameError",
     "evalue": "name 'ny_gentrified' is not defined",
     "output_type": "error",
     "traceback": [
      "\u001b[0;31m---------------------------------------------------------------------------\u001b[0m",
      "\u001b[0;31mNameError\u001b[0m                                 Traceback (most recent call last)",
      "\u001b[0;32m<ipython-input-207-4864992dd8b8>\u001b[0m in \u001b[0;36m<module>\u001b[0;34m\u001b[0m\n\u001b[0;32m----> 1\u001b[0;31m \u001b[0mny_gentrified_crime\u001b[0m \u001b[0;34m=\u001b[0m \u001b[0;34m[\u001b[0m\u001b[0mnum_crimes_by_tract_total\u001b[0m\u001b[0;34m.\u001b[0m\u001b[0mloc\u001b[0m\u001b[0;34m[\u001b[0m\u001b[0mstr\u001b[0m\u001b[0;34m(\u001b[0m\u001b[0mgeoid\u001b[0m\u001b[0;34m)\u001b[0m\u001b[0;34m,\u001b[0m \u001b[0;34m'pct_change'\u001b[0m\u001b[0;34m]\u001b[0m \u001b[0;32mfor\u001b[0m \u001b[0mgeoid\u001b[0m \u001b[0;32min\u001b[0m \u001b[0mlist\u001b[0m\u001b[0;34m(\u001b[0m\u001b[0mny_gentrified\u001b[0m\u001b[0;34m[\u001b[0m\u001b[0;34m'geoid'\u001b[0m\u001b[0;34m]\u001b[0m\u001b[0;34m)\u001b[0m\u001b[0;34m]\u001b[0m\u001b[0;34m\u001b[0m\u001b[0;34m\u001b[0m\u001b[0m\n\u001b[0m\u001b[1;32m      2\u001b[0m \u001b[0mny_didnt_gentrify_crime\u001b[0m \u001b[0;34m=\u001b[0m \u001b[0;34m[\u001b[0m\u001b[0mnum_crimes_by_tract_total\u001b[0m\u001b[0;34m.\u001b[0m\u001b[0mloc\u001b[0m\u001b[0;34m[\u001b[0m\u001b[0mstr\u001b[0m\u001b[0;34m(\u001b[0m\u001b[0mgeoid\u001b[0m\u001b[0;34m)\u001b[0m\u001b[0;34m,\u001b[0m \u001b[0;34m'pct_change'\u001b[0m\u001b[0;34m]\u001b[0m \u001b[0;32mfor\u001b[0m \u001b[0mgeoid\u001b[0m \u001b[0;32min\u001b[0m \u001b[0mlist\u001b[0m\u001b[0;34m(\u001b[0m\u001b[0mny_didnt_gentrify\u001b[0m\u001b[0;34m[\u001b[0m\u001b[0;34m'geoid'\u001b[0m\u001b[0;34m]\u001b[0m\u001b[0;34m)\u001b[0m\u001b[0;34m]\u001b[0m\u001b[0;34m\u001b[0m\u001b[0;34m\u001b[0m\u001b[0m\n",
      "\u001b[0;31mNameError\u001b[0m: name 'ny_gentrified' is not defined"
     ]
    }
   ],
   "source": [
    "ny_gentrified_crime = [num_crimes_by_tract_total.loc[str(geoid), 'pct_change'] for geoid in list(ny_gentrified['geoid'])]\n",
    "ny_didnt_gentrify_crime = [num_crimes_by_tract_total.loc[str(geoid), 'pct_change'] for geoid in list(ny_didnt_gentrify['geoid'])]"
   ]
  },
  {
   "cell_type": "code",
   "execution_count": 367,
   "metadata": {},
   "outputs": [
    {
     "data": {
      "image/png": "[encoded data removed]",
      "text/plain": [
       "<Figure size 432x288 with 1 Axes>"
      ]
     },
     "metadata": {
      "needs_background": "light"
     },
     "output_type": "display_data"
    }
   ],
   "source": [
    "plt.hist(ny_gentrified_crime, bins=20);\n",
    "plt.axvline(25, color='red');\n",
    "plt.ylabel('Number of NY Tracts');\n",
    "plt.xlabel('% Change in Number of Violent Crimes, 2009-18');"
   ]
  },
  {
   "cell_type": "code",
   "execution_count": 378,
   "metadata": {},
   "outputs": [
    {
     "data": {
      "image/png": "[encoded data removed]",
      "text/plain": [
       "<Figure size 432x288 with 1 Axes>"
      ]
     },
     "metadata": {
      "needs_background": "light"
     },
     "output_type": "display_data"
    }
   ],
   "source": [
    "sns.kdeplot(data=ny_gentrified_crime, clip=(-100, 300), fill=True);\n",
    "plt.axvline(0, color='red');\n",
    "plt.xlabel('% Change in Number of Violent Crimes, 2009-18');\n",
    "plt.xlim((-100, 300));\n",
    "plt.title('Distibution of Change in Crime Rates for Gentrified Tracts')\n",
    "plt.savefig('gentrified_change_in_crime.png');"
   ]
  },
  {
   "cell_type": "code",
   "execution_count": 186,
   "metadata": {},
   "outputs": [
    {
     "data": {
      "text/html": [
       "<div>\n",
       "<style scoped>\n",
       "    .dataframe tbody tr th:only-of-type {\n",
       "        vertical-align: middle;\n",
       "    }\n",
       "\n",
       "    .dataframe tbody tr th {\n",
       "        vertical-align: top;\n",
       "    }\n",
       "\n",
       "    .dataframe thead th {\n",
       "        text-align: right;\n",
       "    }\n",
       "</style>\n",
       "<table border=\"1\" class=\"dataframe\">\n",
       "  <thead>\n",
       "    <tr style=\"text-align: right;\">\n",
       "      <th></th>\n",
       "      <th>2009</th>\n",
       "      <th>2018</th>\n",
       "      <th>pct_change</th>\n",
       "    </tr>\n",
       "    <tr>\n",
       "      <th>geoid</th>\n",
       "      <th></th>\n",
       "      <th></th>\n",
       "      <th></th>\n",
       "    </tr>\n",
       "  </thead>\n",
       "  <tbody>\n",
       "    <tr>\n",
       "      <th>36005000400</th>\n",
       "      <td>1</td>\n",
       "      <td>3</td>\n",
       "      <td>200.000000</td>\n",
       "    </tr>\n",
       "    <tr>\n",
       "      <th>36005001600</th>\n",
       "      <td>4</td>\n",
       "      <td>2</td>\n",
       "      <td>-50.000000</td>\n",
       "    </tr>\n",
       "    <tr>\n",
       "      <th>36005002000</th>\n",
       "      <td>3</td>\n",
       "      <td>6</td>\n",
       "      <td>100.000000</td>\n",
       "    </tr>\n",
       "    <tr>\n",
       "      <th>36005002500</th>\n",
       "      <td>2</td>\n",
       "      <td>5</td>\n",
       "      <td>150.000000</td>\n",
       "    </tr>\n",
       "    <tr>\n",
       "      <th>36005002800</th>\n",
       "      <td>2</td>\n",
       "      <td>4</td>\n",
       "      <td>100.000000</td>\n",
       "    </tr>\n",
       "    <tr>\n",
       "      <th>...</th>\n",
       "      <td>...</td>\n",
       "      <td>...</td>\n",
       "      <td>...</td>\n",
       "    </tr>\n",
       "    <tr>\n",
       "      <th>36085029104</th>\n",
       "      <td>4</td>\n",
       "      <td>1</td>\n",
       "      <td>-75.000000</td>\n",
       "    </tr>\n",
       "    <tr>\n",
       "      <th>36085030302</th>\n",
       "      <td>2</td>\n",
       "      <td>7</td>\n",
       "      <td>250.000000</td>\n",
       "    </tr>\n",
       "    <tr>\n",
       "      <th>36085031901</th>\n",
       "      <td>3</td>\n",
       "      <td>3</td>\n",
       "      <td>0.000000</td>\n",
       "    </tr>\n",
       "    <tr>\n",
       "      <th>36085031902</th>\n",
       "      <td>2</td>\n",
       "      <td>6</td>\n",
       "      <td>200.000000</td>\n",
       "    </tr>\n",
       "    <tr>\n",
       "      <th>36085032300</th>\n",
       "      <td>6</td>\n",
       "      <td>5</td>\n",
       "      <td>-16.666667</td>\n",
       "    </tr>\n",
       "  </tbody>\n",
       "</table>\n",
       "<p>981 rows × 3 columns</p>\n",
       "</div>"
      ],
      "text/plain": [
       "             2009  2018  pct_change\n",
       "geoid                              \n",
       "36005000400     1     3  200.000000\n",
       "36005001600     4     2  -50.000000\n",
       "36005002000     3     6  100.000000\n",
       "36005002500     2     5  150.000000\n",
       "36005002800     2     4  100.000000\n",
       "...           ...   ...         ...\n",
       "36085029104     4     1  -75.000000\n",
       "36085030302     2     7  250.000000\n",
       "36085031901     3     3    0.000000\n",
       "36085031902     2     6  200.000000\n",
       "36085032300     6     5  -16.666667\n",
       "\n",
       "[981 rows x 3 columns]"
      ]
     },
     "execution_count": 186,
     "metadata": {},
     "output_type": "execute_result"
    }
   ],
   "source": [
    "num_crimes_by_tract_total"
   ]
  },
  {
   "cell_type": "code",
   "execution_count": 380,
   "metadata": {},
   "outputs": [
    {
     "data": {
      "image/png": "[encoded data removed]",
      "text/plain": [
       "<Figure size 432x288 with 1 Axes>"
      ]
     },
     "metadata": {
      "needs_background": "light"
     },
     "output_type": "display_data"
    }
   ],
   "source": [
    "sns.kdeplot(data=num_crimes_by_tract_total['pct_change'], clip=(-100, 300), fill=True);\n",
    "plt.axvline(0, color='red');\n",
    "plt.xlabel('% Change in Number of Violent Crimes, 2009-18');\n",
    "plt.xlim((-100, 300));\n",
    "plt.title('Distibution of Change in Crime Rates for All Tracts')\n",
    "plt.savefig('all_change_in_crime.png');"
   ]
  },
  {
   "cell_type": "code",
   "execution_count": 411,
   "metadata": {},
   "outputs": [
    {
     "data": {
      "image/png": "[encoded data removed]",
      "text/plain": [
       "<Figure size 432x288 with 1 Axes>"
      ]
     },
     "metadata": {
      "needs_background": "light"
     },
     "output_type": "display_data"
    }
   ],
   "source": [
    "sns.distplot(ny_gentrified_crime, label='Gentrified Tracts in NY');\n",
    "sns.distplot(ny_didnt_gentrify_crime, label='Non-Gentrified Tracts in NY');\n",
    "plt.xlim((-100, 600));\n",
    "plt.legend();\n",
    "plt.xlabel('% Change in Number of Violent Crimes, 2009-18');\n",
    "plt.savefig('gent_vs_nongent_change_in_crime.png');"
   ]
  },
  {
   "cell_type": "code",
   "execution_count": 176,
   "metadata": {},
   "outputs": [],
   "source": [
    "gent_crime = [num_crimes_by_tract_total.loc[str(geoid), 'pct_change'] for geoid in kmeans_gent.index if str(geoid) in num_crimes_by_tract_total.index]"
   ]
  },
  {
   "cell_type": "code",
   "execution_count": 185,
   "metadata": {},
   "outputs": [
    {
     "data": {
      "text/plain": [
       "86"
      ]
     },
     "execution_count": 185,
     "metadata": {},
     "output_type": "execute_result"
    }
   ],
   "source": [
    "sum([True for geoid in kmeans_gent.index if str(geoid) in num_crimes_by_tract_total.index])"
   ]
  },
  {
   "cell_type": "code",
   "execution_count": 184,
   "metadata": {},
   "outputs": [
    {
     "data": {
      "text/plain": [
       "18.582147826333873"
      ]
     },
     "execution_count": 184,
     "metadata": {},
     "output_type": "execute_result"
    }
   ],
   "source": [
    "sum(gent_crime) / len(gent_crime)"
   ]
  },
  {
   "cell_type": "code",
   "execution_count": 209,
   "metadata": {},
   "outputs": [
    {
     "data": {
      "text/plain": [
       "24.250001545828134"
      ]
     },
     "execution_count": 209,
     "metadata": {},
     "output_type": "execute_result"
    }
   ],
   "source": [
    "num_crimes_by_tract_total['pct_change'].mean()"
   ]
  },
  {
   "cell_type": "code",
   "execution_count": 178,
   "metadata": {},
   "outputs": [
    {
     "data": {
      "image/png": "[encoded data removed]",
      "text/plain": [
       "<Figure size 432x288 with 1 Axes>"
      ]
     },
     "metadata": {
      "needs_background": "light"
     },
     "output_type": "display_data"
    }
   ],
   "source": [
    "# kde=False, norm_hist=True\n",
    "\n",
    "sns.distplot(num_crimes_by_tract_total['pct_change'],label='All tracts in NY');\n",
    "sns.distplot(gent_crime, label='Gentrified tracts in NY');\n",
    "plt.xlim((-100, 150));\n",
    "plt.legend();\n",
    "plt.xlabel('% Change in Number of Violent Crimes, 2009-18');\n",
    "# plt.savefig('all_vs_gent_change_in_crime.png');"
   ]
  },
  {
   "cell_type": "code",
   "execution_count": 876,
   "metadata": {},
   "outputs": [
    {
     "data": {
      "text/plain": [
       "(66, 52)"
      ]
     },
     "execution_count": 876,
     "metadata": {},
     "output_type": "execute_result"
    }
   ],
   "source": [
    "gent_bf.shape"
   ]
  },
  {
   "cell_type": "code",
   "execution_count": 405,
   "metadata": {},
   "outputs": [],
   "source": [
    "from scipy.stats import ks_2samp"
   ]
  },
  {
   "cell_type": "code",
   "execution_count": 204,
   "metadata": {},
   "outputs": [
    {
     "data": {
      "text/plain": [
       "KstestResult(statistic=0.07262404286086813, pvalue=0.7687694118922689)"
      ]
     },
     "execution_count": 204,
     "metadata": {},
     "output_type": "execute_result"
    }
   ],
   "source": [
    "ks_2samp(num_crimes_by_tract_total['pct_change'], gent_crime)"
   ]
  },
  {
   "cell_type": "markdown",
   "metadata": {},
   "source": [
    "# Geo Visualization"
   ]
  },
  {
   "cell_type": "code",
   "execution_count": 886,
   "metadata": {},
   "outputs": [],
   "source": [
    "ny_geo = pd.read_csv('nyct2010.csv', usecols=['the_geom', 'CT2010'])\n",
    "ny_geo = ny_geo.set_index('CT2010')\n",
    "ny_geo = ny_geo.drop_duplicates()"
   ]
  },
  {
   "cell_type": "code",
   "execution_count": 906,
   "metadata": {},
   "outputs": [
    {
     "data": {
      "text/html": [
       "<div>\n",
       "<style scoped>\n",
       "    .dataframe tbody tr th:only-of-type {\n",
       "        vertical-align: middle;\n",
       "    }\n",
       "\n",
       "    .dataframe tbody tr th {\n",
       "        vertical-align: top;\n",
       "    }\n",
       "\n",
       "    .dataframe thead th {\n",
       "        text-align: right;\n",
       "    }\n",
       "</style>\n",
       "<table border=\"1\" class=\"dataframe\">\n",
       "  <thead>\n",
       "    <tr style=\"text-align: right;\">\n",
       "      <th></th>\n",
       "      <th>the_geom</th>\n",
       "    </tr>\n",
       "    <tr>\n",
       "      <th>CT2010</th>\n",
       "      <th></th>\n",
       "    </tr>\n",
       "  </thead>\n",
       "  <tbody>\n",
       "    <tr>\n",
       "      <th>900</th>\n",
       "      <td>MULTIPOLYGON (((-74.07920577013245 40.64343078...</td>\n",
       "    </tr>\n",
       "    <tr>\n",
       "      <th>9800</th>\n",
       "      <td>MULTIPOLYGON (((-73.96432543478758 40.75638153...</td>\n",
       "    </tr>\n",
       "    <tr>\n",
       "      <th>10000</th>\n",
       "      <td>MULTIPOLYGON (((-73.96802436915851 40.75957814...</td>\n",
       "    </tr>\n",
       "    <tr>\n",
       "      <th>10200</th>\n",
       "      <td>MULTIPOLYGON (((-73.97124277307127 40.76093641...</td>\n",
       "    </tr>\n",
       "    <tr>\n",
       "      <th>10400</th>\n",
       "      <td>MULTIPOLYGON (((-73.97445730550224 40.76229308...</td>\n",
       "    </tr>\n",
       "  </tbody>\n",
       "</table>\n",
       "</div>"
      ],
      "text/plain": [
       "                                                 the_geom\n",
       "CT2010                                                   \n",
       "900     MULTIPOLYGON (((-74.07920577013245 40.64343078...\n",
       "9800    MULTIPOLYGON (((-73.96432543478758 40.75638153...\n",
       "10000   MULTIPOLYGON (((-73.96802436915851 40.75957814...\n",
       "10200   MULTIPOLYGON (((-73.97124277307127 40.76093641...\n",
       "10400   MULTIPOLYGON (((-73.97445730550224 40.76229308..."
      ]
     },
     "execution_count": 906,
     "metadata": {},
     "output_type": "execute_result"
    }
   ],
   "source": [
    "ny_geo.head()"
   ]
  },
  {
   "cell_type": "code",
   "execution_count": 896,
   "metadata": {},
   "outputs": [],
   "source": [
    "kmeans_gent['tract'] = [int(str(geoid)[-6:]) for geoid in kmeans_gent.index]"
   ]
  },
  {
   "cell_type": "code",
   "execution_count": 909,
   "metadata": {},
   "outputs": [],
   "source": [
    "kmeans_gent['geom'] = [ny_geo.loc[tract, 'the_geom'] if tract in ny_geo.index else None for tract in kmeans_gent.index]"
   ]
  },
  {
   "cell_type": "code",
   "execution_count": 914,
   "metadata": {},
   "outputs": [
    {
     "data": {
      "text/plain": [
       "130"
      ]
     },
     "execution_count": 914,
     "metadata": {},
     "output_type": "execute_result"
    }
   ],
   "source": [
    "sum([1 for geom in kmeans_gent.geom if geom == None])"
   ]
  },
  {
   "cell_type": "code",
   "execution_count": 24,
   "metadata": {},
   "outputs": [],
   "source": [
    "# kmeans_gent.sort_values(by='geom')"
   ]
  },
  {
   "cell_type": "code",
   "execution_count": null,
   "metadata": {},
   "outputs": [],
   "source": []
  },
  {
   "cell_type": "code",
   "execution_count": 224,
   "metadata": {},
   "outputs": [
    {
     "data": {
      "text/plain": [
       "(3053, 2912)"
      ]
     },
     "execution_count": 224,
     "metadata": {},
     "output_type": "execute_result"
    }
   ],
   "source": [
    "num_crimes_by_tract_total['2009'].sum(), num_crimes_by_tract_total['2018'].sum()"
   ]
  },
  {
   "cell_type": "code",
   "execution_count": 227,
   "metadata": {},
   "outputs": [
    {
     "data": {
      "text/plain": [
       "-4.618408123157547"
      ]
     },
     "execution_count": 227,
     "metadata": {},
     "output_type": "execute_result"
    }
   ],
   "source": [
    "(num_crimes_by_tract_total['2018'].sum() / num_crimes_by_tract_total['2009'].sum() - 1) * 100"
   ]
  },
  {
   "cell_type": "code",
   "execution_count": 225,
   "metadata": {},
   "outputs": [
    {
     "data": {
      "text/plain": [
       "(295, 270)"
      ]
     },
     "execution_count": 225,
     "metadata": {},
     "output_type": "execute_result"
    }
   ],
   "source": [
    "gentr_crime_df['2009'].sum(), gentr_crime_df['2018'].sum()"
   ]
  },
  {
   "cell_type": "code",
   "execution_count": 234,
   "metadata": {},
   "outputs": [
    {
     "data": {
      "text/html": [
       "<div>\n",
       "<style scoped>\n",
       "    .dataframe tbody tr th:only-of-type {\n",
       "        vertical-align: middle;\n",
       "    }\n",
       "\n",
       "    .dataframe tbody tr th {\n",
       "        vertical-align: top;\n",
       "    }\n",
       "\n",
       "    .dataframe thead th {\n",
       "        text-align: right;\n",
       "    }\n",
       "</style>\n",
       "<table border=\"1\" class=\"dataframe\">\n",
       "  <thead>\n",
       "    <tr style=\"text-align: right;\">\n",
       "      <th></th>\n",
       "      <th>2009</th>\n",
       "      <th>2018</th>\n",
       "    </tr>\n",
       "  </thead>\n",
       "  <tbody>\n",
       "    <tr>\n",
       "      <th>All Tracts</th>\n",
       "      <td>3053</td>\n",
       "      <td>2912</td>\n",
       "    </tr>\n",
       "    <tr>\n",
       "      <th>Gentrified Tracts</th>\n",
       "      <td>295</td>\n",
       "      <td>270</td>\n",
       "    </tr>\n",
       "  </tbody>\n",
       "</table>\n",
       "</div>"
      ],
      "text/plain": [
       "                   2009  2018\n",
       "All Tracts         3053  2912\n",
       "Gentrified Tracts   295   270"
      ]
     },
     "execution_count": 234,
     "metadata": {},
     "output_type": "execute_result"
    }
   ],
   "source": [
    "cr = pd.DataFrame.from_dict({'All Tracts' : [3053, 2912], 'Gentrified Tracts' : [295, 270]}, orient='index')\n",
    "cr.columns = ['2009', '2018']\n",
    "cr"
   ]
  },
  {
   "cell_type": "code",
   "execution_count": 239,
   "metadata": {},
   "outputs": [
    {
     "data": {
      "text/plain": [
       "<AxesSubplot:>"
      ]
     },
     "execution_count": 239,
     "metadata": {},
     "output_type": "execute_result"
    },
    {
     "data": {
      "image/png": "[encoded data removed]",
      "text/plain": [
       "<Figure size 432x288 with 1 Axes>"
      ]
     },
     "metadata": {
      "needs_background": "light"
     },
     "output_type": "display_data"
    }
   ],
   "source": [
    "cr.plot.bar(rot=0)"
   ]
  },
  {
   "cell_type": "code",
   "execution_count": null,
   "metadata": {},
   "outputs": [],
   "source": []
  },
  {
   "cell_type": "code",
   "execution_count": null,
   "metadata": {},
   "outputs": [],
   "source": []
  },
  {
   "cell_type": "code",
   "execution_count": 228,
   "metadata": {},
   "outputs": [
    {
     "data": {
      "text/plain": [
       "-8.47457627118644"
      ]
     },
     "execution_count": 228,
     "metadata": {},
     "output_type": "execute_result"
    }
   ],
   "source": [
    "(gentr_crime_df['2018'].sum() / gentr_crime_df['2009'].sum() - 1) * 100"
   ]
  },
  {
   "cell_type": "code",
   "execution_count": 230,
   "metadata": {},
   "outputs": [
    {
     "data": {
      "text/plain": [
       "(3.112130479102956, 2.9683995922528035)"
      ]
     },
     "execution_count": 230,
     "metadata": {},
     "output_type": "execute_result"
    }
   ],
   "source": [
    "num_crimes_by_tract_total['2009'].sum() / num_crimes_by_tract_total.shape[0], num_crimes_by_tract_total['2018'].sum() / num_crimes_by_tract_total.shape[0]"
   ]
  },
  {
   "cell_type": "code",
   "execution_count": 231,
   "metadata": {},
   "outputs": [
    {
     "data": {
      "text/plain": [
       "(3.4302325581395348, 3.13953488372093)"
      ]
     },
     "execution_count": 231,
     "metadata": {},
     "output_type": "execute_result"
    }
   ],
   "source": [
    "gentr_crime_df['2009'].sum() / gentr_crime_df.shape[0], gentr_crime_df['2018'].sum() / gentr_crime_df.shape[0]"
   ]
  },
  {
   "cell_type": "code",
   "execution_count": null,
   "metadata": {},
   "outputs": [],
   "source": []
  },
  {
   "cell_type": "code",
   "execution_count": 220,
   "metadata": {},
   "outputs": [],
   "source": [
    "gentr_crime = [True if int(geoid) in kmeans_gent.index else False for geoid in num_crimes_by_tract_total.index]"
   ]
  },
  {
   "cell_type": "code",
   "execution_count": 222,
   "metadata": {},
   "outputs": [],
   "source": [
    "gentr_crime_df = num_crimes_by_tract_total[gentr_crime]"
   ]
  },
  {
   "cell_type": "code",
   "execution_count": 223,
   "metadata": {},
   "outputs": [
    {
     "data": {
      "text/html": [
       "<div>\n",
       "<style scoped>\n",
       "    .dataframe tbody tr th:only-of-type {\n",
       "        vertical-align: middle;\n",
       "    }\n",
       "\n",
       "    .dataframe tbody tr th {\n",
       "        vertical-align: top;\n",
       "    }\n",
       "\n",
       "    .dataframe thead th {\n",
       "        text-align: right;\n",
       "    }\n",
       "</style>\n",
       "<table border=\"1\" class=\"dataframe\">\n",
       "  <thead>\n",
       "    <tr style=\"text-align: right;\">\n",
       "      <th></th>\n",
       "      <th>2009</th>\n",
       "      <th>2018</th>\n",
       "      <th>pct_change</th>\n",
       "    </tr>\n",
       "    <tr>\n",
       "      <th>geoid</th>\n",
       "      <th></th>\n",
       "      <th></th>\n",
       "      <th></th>\n",
       "    </tr>\n",
       "  </thead>\n",
       "  <tbody>\n",
       "    <tr>\n",
       "      <th>36005045101</th>\n",
       "      <td>1</td>\n",
       "      <td>1</td>\n",
       "      <td>0.000000</td>\n",
       "    </tr>\n",
       "    <tr>\n",
       "      <th>36047003500</th>\n",
       "      <td>7</td>\n",
       "      <td>8</td>\n",
       "      <td>14.285714</td>\n",
       "    </tr>\n",
       "    <tr>\n",
       "      <th>36047003900</th>\n",
       "      <td>1</td>\n",
       "      <td>1</td>\n",
       "      <td>0.000000</td>\n",
       "    </tr>\n",
       "    <tr>\n",
       "      <th>36047005900</th>\n",
       "      <td>5</td>\n",
       "      <td>6</td>\n",
       "      <td>20.000000</td>\n",
       "    </tr>\n",
       "    <tr>\n",
       "      <th>36047008000</th>\n",
       "      <td>3</td>\n",
       "      <td>1</td>\n",
       "      <td>-66.666667</td>\n",
       "    </tr>\n",
       "    <tr>\n",
       "      <th>...</th>\n",
       "      <td>...</td>\n",
       "      <td>...</td>\n",
       "      <td>...</td>\n",
       "    </tr>\n",
       "    <tr>\n",
       "      <th>36081007100</th>\n",
       "      <td>5</td>\n",
       "      <td>2</td>\n",
       "      <td>-60.000000</td>\n",
       "    </tr>\n",
       "    <tr>\n",
       "      <th>36081007500</th>\n",
       "      <td>1</td>\n",
       "      <td>2</td>\n",
       "      <td>100.000000</td>\n",
       "    </tr>\n",
       "    <tr>\n",
       "      <th>36081011600</th>\n",
       "      <td>2</td>\n",
       "      <td>1</td>\n",
       "      <td>-50.000000</td>\n",
       "    </tr>\n",
       "    <tr>\n",
       "      <th>36081029300</th>\n",
       "      <td>1</td>\n",
       "      <td>1</td>\n",
       "      <td>0.000000</td>\n",
       "    </tr>\n",
       "    <tr>\n",
       "      <th>36081055300</th>\n",
       "      <td>1</td>\n",
       "      <td>3</td>\n",
       "      <td>200.000000</td>\n",
       "    </tr>\n",
       "  </tbody>\n",
       "</table>\n",
       "<p>86 rows × 3 columns</p>\n",
       "</div>"
      ],
      "text/plain": [
       "             2009  2018  pct_change\n",
       "geoid                              \n",
       "36005045101     1     1    0.000000\n",
       "36047003500     7     8   14.285714\n",
       "36047003900     1     1    0.000000\n",
       "36047005900     5     6   20.000000\n",
       "36047008000     3     1  -66.666667\n",
       "...           ...   ...         ...\n",
       "36081007100     5     2  -60.000000\n",
       "36081007500     1     2  100.000000\n",
       "36081011600     2     1  -50.000000\n",
       "36081029300     1     1    0.000000\n",
       "36081055300     1     3  200.000000\n",
       "\n",
       "[86 rows x 3 columns]"
      ]
     },
     "execution_count": 223,
     "metadata": {},
     "output_type": "execute_result"
    }
   ],
   "source": [
    "gentr_crime_df "
   ]
  },
  {
   "cell_type": "code",
   "execution_count": null,
   "metadata": {},
   "outputs": [],
   "source": []
  }
 ],
 "metadata": {
  "kernelspec": {
   "display_name": "Python 3",
   "language": "python",
   "name": "python3"
  },
  "language_info": {
   "codemirror_mode": {
    "name": "ipython",
    "version": 3
   },
   "file_extension": ".py",
   "mimetype": "text/x-python",
   "name": "python",
   "nbconvert_exporter": "python",
   "pygments_lexer": "ipython3",
   "version": "3.8.5"
  }
 },
 "nbformat": 4,
 "nbformat_minor": 4
}
